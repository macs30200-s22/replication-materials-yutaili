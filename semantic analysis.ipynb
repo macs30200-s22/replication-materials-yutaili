{
 "cells": [
  {
   "cell_type": "markdown",
   "id": "b67c6381",
   "metadata": {},
   "source": [
    "### Semantic Distance"
   ]
  },
  {
   "cell_type": "code",
   "execution_count": 1,
   "id": "63367b11",
   "metadata": {},
   "outputs": [
    {
     "name": "stdout",
     "output_type": "stream",
     "text": [
      "Requirement already satisfied: gensim in /Users/liyutai/opt/anaconda3/lib/python3.8/site-packages (4.1.2)\n",
      "Requirement already satisfied: numpy>=1.17.0 in /Users/liyutai/opt/anaconda3/lib/python3.8/site-packages (from gensim) (1.21.5)\n",
      "Requirement already satisfied: smart-open>=1.8.1 in /Users/liyutai/opt/anaconda3/lib/python3.8/site-packages (from gensim) (6.0.0)\n",
      "Requirement already satisfied: scipy>=0.18.1 in /Users/liyutai/opt/anaconda3/lib/python3.8/site-packages (from gensim) (1.6.2)\n",
      "Requirement already satisfied: nltk in /Users/liyutai/opt/anaconda3/lib/python3.8/site-packages (3.6.1)\n",
      "Requirement already satisfied: tqdm in /Users/liyutai/opt/anaconda3/lib/python3.8/site-packages (from nltk) (4.59.0)\n",
      "Requirement already satisfied: joblib in /Users/liyutai/opt/anaconda3/lib/python3.8/site-packages (from nltk) (1.0.1)\n",
      "Requirement already satisfied: regex in /Users/liyutai/opt/anaconda3/lib/python3.8/site-packages (from nltk) (2021.4.4)\n",
      "Requirement already satisfied: click in /Users/liyutai/opt/anaconda3/lib/python3.8/site-packages (from nltk) (7.1.2)\n"
     ]
    }
   ],
   "source": [
    "! pip install gensim\n",
    "! pip install nltk"
   ]
  },
  {
   "cell_type": "code",
   "execution_count": 2,
   "id": "57a6e6e8",
   "metadata": {},
   "outputs": [],
   "source": [
    "# import packages\n",
    "import matplotlib.pyplot as plt\n",
    "import pandas as pd\n",
    "import numpy as np\n",
    "from gensim.models import Word2Vec\n",
    "import os"
   ]
  },
  {
   "cell_type": "code",
   "execution_count": 3,
   "id": "d1e7bf8a",
   "metadata": {},
   "outputs": [
    {
     "data": {
      "text/plain": [
       "'/Users/liyutai/Desktop/MACS 30200/project'"
      ]
     },
     "execution_count": 3,
     "metadata": {},
     "output_type": "execute_result"
    }
   ],
   "source": [
    "os.getcwd()"
   ]
  },
  {
   "cell_type": "code",
   "execution_count": 4,
   "id": "05522d8f",
   "metadata": {},
   "outputs": [],
   "source": [
    "ll_df = pd.read_csv(\"MIT_ImageRatings.csv\")"
   ]
  },
  {
   "cell_type": "code",
   "execution_count": 5,
   "id": "e193fcc0",
   "metadata": {},
   "outputs": [],
   "source": [
    "hl_df = pd.read_csv(\"image_label.csv\")"
   ]
  },
  {
   "cell_type": "code",
   "execution_count": 6,
   "id": "f54d9bd0",
   "metadata": {},
   "outputs": [
    {
     "data": {
      "text/html": [
       "<div>\n",
       "<style scoped>\n",
       "    .dataframe tbody tr th:only-of-type {\n",
       "        vertical-align: middle;\n",
       "    }\n",
       "\n",
       "    .dataframe tbody tr th {\n",
       "        vertical-align: top;\n",
       "    }\n",
       "\n",
       "    .dataframe thead th {\n",
       "        text-align: right;\n",
       "    }\n",
       "</style>\n",
       "<table border=\"1\" class=\"dataframe\">\n",
       "  <thead>\n",
       "    <tr style=\"text-align: right;\">\n",
       "      <th></th>\n",
       "      <th>image_name</th>\n",
       "      <th>Hue</th>\n",
       "      <th>Sat</th>\n",
       "      <th>Lum</th>\n",
       "      <th>sdHue</th>\n",
       "      <th>sdSat</th>\n",
       "      <th>sdBright</th>\n",
       "      <th>Entropy</th>\n",
       "      <th>LRSymm</th>\n",
       "      <th>UDSymm</th>\n",
       "      <th>SED</th>\n",
       "      <th>NSED</th>\n",
       "      <th>ED</th>\n",
       "      <th>Order</th>\n",
       "      <th>Natural</th>\n",
       "      <th>Habitable</th>\n",
       "      <th>Preference</th>\n",
       "    </tr>\n",
       "  </thead>\n",
       "  <tbody>\n",
       "    <tr>\n",
       "      <th>0</th>\n",
       "      <td>5290333715_fbe95626ae_o.jpg</td>\n",
       "      <td>0.123053</td>\n",
       "      <td>0.280524</td>\n",
       "      <td>0.465580</td>\n",
       "      <td>0.197126</td>\n",
       "      <td>0.216424</td>\n",
       "      <td>0.275851</td>\n",
       "      <td>7.434824</td>\n",
       "      <td>0.005822</td>\n",
       "      <td>0.004986</td>\n",
       "      <td>0.121669</td>\n",
       "      <td>0.008589</td>\n",
       "      <td>0.096019</td>\n",
       "      <td>1.00</td>\n",
       "      <td>2.17</td>\n",
       "      <td>2.93</td>\n",
       "      <td>1.53</td>\n",
       "    </tr>\n",
       "    <tr>\n",
       "      <th>1</th>\n",
       "      <td>4357587050_d09069f341_o.jpg</td>\n",
       "      <td>0.276483</td>\n",
       "      <td>0.254353</td>\n",
       "      <td>0.566156</td>\n",
       "      <td>0.278846</td>\n",
       "      <td>0.294493</td>\n",
       "      <td>0.270801</td>\n",
       "      <td>6.177281</td>\n",
       "      <td>0.008411</td>\n",
       "      <td>0.007431</td>\n",
       "      <td>0.077890</td>\n",
       "      <td>0.034188</td>\n",
       "      <td>0.100465</td>\n",
       "      <td>1.06</td>\n",
       "      <td>2.00</td>\n",
       "      <td>1.59</td>\n",
       "      <td>1.74</td>\n",
       "    </tr>\n",
       "    <tr>\n",
       "      <th>2</th>\n",
       "      <td>sun_audijvtzzhgkrybg.jpg</td>\n",
       "      <td>0.278962</td>\n",
       "      <td>0.202144</td>\n",
       "      <td>0.497832</td>\n",
       "      <td>0.259493</td>\n",
       "      <td>0.157821</td>\n",
       "      <td>0.232531</td>\n",
       "      <td>7.738311</td>\n",
       "      <td>0.010022</td>\n",
       "      <td>0.008939</td>\n",
       "      <td>0.059931</td>\n",
       "      <td>0.102152</td>\n",
       "      <td>0.134441</td>\n",
       "      <td>1.07</td>\n",
       "      <td>2.04</td>\n",
       "      <td>2.10</td>\n",
       "      <td>1.95</td>\n",
       "    </tr>\n",
       "    <tr>\n",
       "      <th>3</th>\n",
       "      <td>sun_ajjodogkvthozlni.jpg</td>\n",
       "      <td>0.378697</td>\n",
       "      <td>0.205623</td>\n",
       "      <td>0.475785</td>\n",
       "      <td>0.220284</td>\n",
       "      <td>0.194211</td>\n",
       "      <td>0.314798</td>\n",
       "      <td>7.733583</td>\n",
       "      <td>0.008954</td>\n",
       "      <td>0.008261</td>\n",
       "      <td>0.086321</td>\n",
       "      <td>0.079031</td>\n",
       "      <td>0.123857</td>\n",
       "      <td>1.09</td>\n",
       "      <td>1.16</td>\n",
       "      <td>2.08</td>\n",
       "      <td>1.26</td>\n",
       "    </tr>\n",
       "    <tr>\n",
       "      <th>4</th>\n",
       "      <td>sun_dgqyeayssxdxcaim.jpg</td>\n",
       "      <td>0.389366</td>\n",
       "      <td>0.175528</td>\n",
       "      <td>0.538711</td>\n",
       "      <td>0.344595</td>\n",
       "      <td>0.135950</td>\n",
       "      <td>0.194159</td>\n",
       "      <td>7.118987</td>\n",
       "      <td>0.009003</td>\n",
       "      <td>0.003885</td>\n",
       "      <td>0.040296</td>\n",
       "      <td>0.077255</td>\n",
       "      <td>0.111384</td>\n",
       "      <td>1.12</td>\n",
       "      <td>1.85</td>\n",
       "      <td>2.81</td>\n",
       "      <td>1.61</td>\n",
       "    </tr>\n",
       "  </tbody>\n",
       "</table>\n",
       "</div>"
      ],
      "text/plain": [
       "                    image_name       Hue       Sat       Lum     sdHue  \\\n",
       "0  5290333715_fbe95626ae_o.jpg  0.123053  0.280524  0.465580  0.197126   \n",
       "1  4357587050_d09069f341_o.jpg  0.276483  0.254353  0.566156  0.278846   \n",
       "2     sun_audijvtzzhgkrybg.jpg  0.278962  0.202144  0.497832  0.259493   \n",
       "3     sun_ajjodogkvthozlni.jpg  0.378697  0.205623  0.475785  0.220284   \n",
       "4     sun_dgqyeayssxdxcaim.jpg  0.389366  0.175528  0.538711  0.344595   \n",
       "\n",
       "      sdSat  sdBright   Entropy    LRSymm    UDSymm       SED      NSED  \\\n",
       "0  0.216424  0.275851  7.434824  0.005822  0.004986  0.121669  0.008589   \n",
       "1  0.294493  0.270801  6.177281  0.008411  0.007431  0.077890  0.034188   \n",
       "2  0.157821  0.232531  7.738311  0.010022  0.008939  0.059931  0.102152   \n",
       "3  0.194211  0.314798  7.733583  0.008954  0.008261  0.086321  0.079031   \n",
       "4  0.135950  0.194159  7.118987  0.009003  0.003885  0.040296  0.077255   \n",
       "\n",
       "         ED  Order  Natural  Habitable  Preference  \n",
       "0  0.096019   1.00     2.17       2.93        1.53  \n",
       "1  0.100465   1.06     2.00       1.59        1.74  \n",
       "2  0.134441   1.07     2.04       2.10        1.95  \n",
       "3  0.123857   1.09     1.16       2.08        1.26  \n",
       "4  0.111384   1.12     1.85       2.81        1.61  "
      ]
     },
     "execution_count": 6,
     "metadata": {},
     "output_type": "execute_result"
    }
   ],
   "source": [
    "ll_df.head()"
   ]
  },
  {
   "cell_type": "code",
   "execution_count": 7,
   "id": "26ad15c0",
   "metadata": {},
   "outputs": [
    {
     "data": {
      "text/html": [
       "<div>\n",
       "<style scoped>\n",
       "    .dataframe tbody tr th:only-of-type {\n",
       "        vertical-align: middle;\n",
       "    }\n",
       "\n",
       "    .dataframe tbody tr th {\n",
       "        vertical-align: top;\n",
       "    }\n",
       "\n",
       "    .dataframe thead th {\n",
       "        text-align: right;\n",
       "    }\n",
       "</style>\n",
       "<table border=\"1\" class=\"dataframe\">\n",
       "  <thead>\n",
       "    <tr style=\"text-align: right;\">\n",
       "      <th></th>\n",
       "      <th>image_name</th>\n",
       "      <th>labels</th>\n",
       "    </tr>\n",
       "  </thead>\n",
       "  <tbody>\n",
       "    <tr>\n",
       "      <th>0</th>\n",
       "      <td>2755860336_126b78842a_o.jpg</td>\n",
       "      <td>['Plant(96.71%)', 'Building(96.41%)', 'Window(...</td>\n",
       "    </tr>\n",
       "    <tr>\n",
       "      <th>1</th>\n",
       "      <td>5005678830_2e45739d41_o.jpg</td>\n",
       "      <td>['Plant(97.29%)', 'Sky(96.57%)', 'Building(96....</td>\n",
       "    </tr>\n",
       "    <tr>\n",
       "      <th>2</th>\n",
       "      <td>sun_bggixrgemhvuewkc.jpg</td>\n",
       "      <td>['Plant(96.76%)', 'Building(96.48%)', 'Car(95....</td>\n",
       "    </tr>\n",
       "    <tr>\n",
       "      <th>3</th>\n",
       "      <td>sun_arkbrhiinafdbhrw.jpg</td>\n",
       "      <td>['Plant(96.95%)', 'Plant community(93.29%)', '...</td>\n",
       "    </tr>\n",
       "    <tr>\n",
       "      <th>4</th>\n",
       "      <td>sun_blplndgggpunourm.jpg</td>\n",
       "      <td>['Water(98.00%)', 'Plant(96.93%)', 'Water reso...</td>\n",
       "    </tr>\n",
       "  </tbody>\n",
       "</table>\n",
       "</div>"
      ],
      "text/plain": [
       "                    image_name  \\\n",
       "0  2755860336_126b78842a_o.jpg   \n",
       "1  5005678830_2e45739d41_o.jpg   \n",
       "2     sun_bggixrgemhvuewkc.jpg   \n",
       "3     sun_arkbrhiinafdbhrw.jpg   \n",
       "4     sun_blplndgggpunourm.jpg   \n",
       "\n",
       "                                              labels  \n",
       "0  ['Plant(96.71%)', 'Building(96.41%)', 'Window(...  \n",
       "1  ['Plant(97.29%)', 'Sky(96.57%)', 'Building(96....  \n",
       "2  ['Plant(96.76%)', 'Building(96.48%)', 'Car(95....  \n",
       "3  ['Plant(96.95%)', 'Plant community(93.29%)', '...  \n",
       "4  ['Water(98.00%)', 'Plant(96.93%)', 'Water reso...  "
      ]
     },
     "execution_count": 7,
     "metadata": {},
     "output_type": "execute_result"
    }
   ],
   "source": [
    "hl_df.head()"
   ]
  },
  {
   "cell_type": "code",
   "execution_count": 8,
   "id": "89f02423",
   "metadata": {},
   "outputs": [],
   "source": [
    "dataframe = ll_df.join(hl_df.set_index('image_name'), on='image_name')"
   ]
  },
  {
   "cell_type": "code",
   "execution_count": 9,
   "id": "886f6c03",
   "metadata": {},
   "outputs": [],
   "source": [
    "dataframe = dataframe[['image_name', 'Natural', 'labels']]"
   ]
  },
  {
   "cell_type": "code",
   "execution_count": 10,
   "id": "d81dd124",
   "metadata": {},
   "outputs": [
    {
     "data": {
      "text/html": [
       "<div>\n",
       "<style scoped>\n",
       "    .dataframe tbody tr th:only-of-type {\n",
       "        vertical-align: middle;\n",
       "    }\n",
       "\n",
       "    .dataframe tbody tr th {\n",
       "        vertical-align: top;\n",
       "    }\n",
       "\n",
       "    .dataframe thead th {\n",
       "        text-align: right;\n",
       "    }\n",
       "</style>\n",
       "<table border=\"1\" class=\"dataframe\">\n",
       "  <thead>\n",
       "    <tr style=\"text-align: right;\">\n",
       "      <th></th>\n",
       "      <th>image_name</th>\n",
       "      <th>Natural</th>\n",
       "      <th>labels</th>\n",
       "    </tr>\n",
       "  </thead>\n",
       "  <tbody>\n",
       "    <tr>\n",
       "      <th>0</th>\n",
       "      <td>5290333715_fbe95626ae_o.jpg</td>\n",
       "      <td>2.17</td>\n",
       "      <td>['Building(94.69%)', 'Daytime(94.46%)', 'Prope...</td>\n",
       "    </tr>\n",
       "    <tr>\n",
       "      <th>1</th>\n",
       "      <td>4357587050_d09069f341_o.jpg</td>\n",
       "      <td>2.00</td>\n",
       "      <td>['Building(95.83%)', 'Window(94.71%)', 'Proper...</td>\n",
       "    </tr>\n",
       "    <tr>\n",
       "      <th>2</th>\n",
       "      <td>sun_audijvtzzhgkrybg.jpg</td>\n",
       "      <td>2.04</td>\n",
       "      <td>['Daytime(94.42%)', 'Property(94.33%)', 'Sky(9...</td>\n",
       "    </tr>\n",
       "    <tr>\n",
       "      <th>3</th>\n",
       "      <td>sun_ajjodogkvthozlni.jpg</td>\n",
       "      <td>1.16</td>\n",
       "      <td>['Sky(95.29%)', 'Building(92.38%)', 'Urban des...</td>\n",
       "    </tr>\n",
       "    <tr>\n",
       "      <th>4</th>\n",
       "      <td>sun_dgqyeayssxdxcaim.jpg</td>\n",
       "      <td>1.85</td>\n",
       "      <td>['Sky(95.24%)', 'Cloud(93.56%)', 'Wood(85.84%)...</td>\n",
       "    </tr>\n",
       "    <tr>\n",
       "      <th>...</th>\n",
       "      <td>...</td>\n",
       "      <td>...</td>\n",
       "      <td>...</td>\n",
       "    </tr>\n",
       "    <tr>\n",
       "      <th>1100</th>\n",
       "      <td>sun_alewbcnalibklcwh.jpg</td>\n",
       "      <td>2.08</td>\n",
       "      <td>[]</td>\n",
       "    </tr>\n",
       "    <tr>\n",
       "      <th>1101</th>\n",
       "      <td>sun_aphsqddlotnzlzvk.jpg</td>\n",
       "      <td>1.76</td>\n",
       "      <td>['Cloud(96.74%)', 'Sky(96.56%)', 'Building(94....</td>\n",
       "    </tr>\n",
       "    <tr>\n",
       "      <th>1102</th>\n",
       "      <td>sun_abrrtrlvdghzzuxz.jpg</td>\n",
       "      <td>1.40</td>\n",
       "      <td>NaN</td>\n",
       "    </tr>\n",
       "    <tr>\n",
       "      <th>1103</th>\n",
       "      <td>sun_bvgfkvcwscgrhenm.jpg</td>\n",
       "      <td>1.23</td>\n",
       "      <td>['Bookcase(95.80%)', 'Furniture(95.16%)', 'Tab...</td>\n",
       "    </tr>\n",
       "    <tr>\n",
       "      <th>1104</th>\n",
       "      <td>sun_brhnenzovufqzizy.jpg</td>\n",
       "      <td>1.48</td>\n",
       "      <td>['Sky(97.32%)', 'Skyscraper(96.21%)', 'Buildin...</td>\n",
       "    </tr>\n",
       "  </tbody>\n",
       "</table>\n",
       "<p>1105 rows × 3 columns</p>\n",
       "</div>"
      ],
      "text/plain": [
       "                       image_name  Natural  \\\n",
       "0     5290333715_fbe95626ae_o.jpg     2.17   \n",
       "1     4357587050_d09069f341_o.jpg     2.00   \n",
       "2        sun_audijvtzzhgkrybg.jpg     2.04   \n",
       "3        sun_ajjodogkvthozlni.jpg     1.16   \n",
       "4        sun_dgqyeayssxdxcaim.jpg     1.85   \n",
       "...                           ...      ...   \n",
       "1100     sun_alewbcnalibklcwh.jpg     2.08   \n",
       "1101     sun_aphsqddlotnzlzvk.jpg     1.76   \n",
       "1102     sun_abrrtrlvdghzzuxz.jpg     1.40   \n",
       "1103     sun_bvgfkvcwscgrhenm.jpg     1.23   \n",
       "1104     sun_brhnenzovufqzizy.jpg     1.48   \n",
       "\n",
       "                                                 labels  \n",
       "0     ['Building(94.69%)', 'Daytime(94.46%)', 'Prope...  \n",
       "1     ['Building(95.83%)', 'Window(94.71%)', 'Proper...  \n",
       "2     ['Daytime(94.42%)', 'Property(94.33%)', 'Sky(9...  \n",
       "3     ['Sky(95.29%)', 'Building(92.38%)', 'Urban des...  \n",
       "4     ['Sky(95.24%)', 'Cloud(93.56%)', 'Wood(85.84%)...  \n",
       "...                                                 ...  \n",
       "1100                                                 []  \n",
       "1101  ['Cloud(96.74%)', 'Sky(96.56%)', 'Building(94....  \n",
       "1102                                                NaN  \n",
       "1103  ['Bookcase(95.80%)', 'Furniture(95.16%)', 'Tab...  \n",
       "1104  ['Sky(97.32%)', 'Skyscraper(96.21%)', 'Buildin...  \n",
       "\n",
       "[1105 rows x 3 columns]"
      ]
     },
     "execution_count": 10,
     "metadata": {},
     "output_type": "execute_result"
    }
   ],
   "source": [
    "dataframe"
   ]
  },
  {
   "cell_type": "code",
   "execution_count": 11,
   "id": "7ca2db54",
   "metadata": {},
   "outputs": [
    {
     "data": {
      "text/plain": [
       "image_name     0\n",
       "Natural        0\n",
       "labels        75\n",
       "dtype: int64"
      ]
     },
     "execution_count": 11,
     "metadata": {},
     "output_type": "execute_result"
    }
   ],
   "source": [
    "dataframe.isnull().sum()"
   ]
  },
  {
   "cell_type": "code",
   "execution_count": 12,
   "id": "623bb5d4",
   "metadata": {},
   "outputs": [],
   "source": [
    "miss_val = pd.isnull(dataframe['labels'])"
   ]
  },
  {
   "cell_type": "code",
   "execution_count": 13,
   "id": "58a41f5a",
   "metadata": {},
   "outputs": [
    {
     "data": {
      "text/html": [
       "<div>\n",
       "<style scoped>\n",
       "    .dataframe tbody tr th:only-of-type {\n",
       "        vertical-align: middle;\n",
       "    }\n",
       "\n",
       "    .dataframe tbody tr th {\n",
       "        vertical-align: top;\n",
       "    }\n",
       "\n",
       "    .dataframe thead th {\n",
       "        text-align: right;\n",
       "    }\n",
       "</style>\n",
       "<table border=\"1\" class=\"dataframe\">\n",
       "  <thead>\n",
       "    <tr style=\"text-align: right;\">\n",
       "      <th></th>\n",
       "      <th>image_name</th>\n",
       "      <th>Natural</th>\n",
       "      <th>labels</th>\n",
       "    </tr>\n",
       "  </thead>\n",
       "  <tbody>\n",
       "    <tr>\n",
       "      <th>214</th>\n",
       "      <td>sun_abnxhmmesrvgqazg.jpg</td>\n",
       "      <td>2.61</td>\n",
       "      <td>NaN</td>\n",
       "    </tr>\n",
       "    <tr>\n",
       "      <th>224</th>\n",
       "      <td>sun_aglpxonwfoqtmeub.jpg</td>\n",
       "      <td>6.79</td>\n",
       "      <td>NaN</td>\n",
       "    </tr>\n",
       "    <tr>\n",
       "      <th>239</th>\n",
       "      <td>sun_bbpefokgivhwzglh.jpg</td>\n",
       "      <td>1.58</td>\n",
       "      <td>NaN</td>\n",
       "    </tr>\n",
       "    <tr>\n",
       "      <th>272</th>\n",
       "      <td>sun_bccjpnbmxhyfptmc.jpg</td>\n",
       "      <td>2.60</td>\n",
       "      <td>NaN</td>\n",
       "    </tr>\n",
       "    <tr>\n",
       "      <th>274</th>\n",
       "      <td>sun_bbzwbfgqadhzqhqf.jpg</td>\n",
       "      <td>6.00</td>\n",
       "      <td>NaN</td>\n",
       "    </tr>\n",
       "    <tr>\n",
       "      <th>...</th>\n",
       "      <td>...</td>\n",
       "      <td>...</td>\n",
       "      <td>...</td>\n",
       "    </tr>\n",
       "    <tr>\n",
       "      <th>1076</th>\n",
       "      <td>sun_byyoeixlskdvtnxu.jpg</td>\n",
       "      <td>1.70</td>\n",
       "      <td>NaN</td>\n",
       "    </tr>\n",
       "    <tr>\n",
       "      <th>1081</th>\n",
       "      <td>sun_badbdepxqipklvvf.jpg</td>\n",
       "      <td>6.93</td>\n",
       "      <td>NaN</td>\n",
       "    </tr>\n",
       "    <tr>\n",
       "      <th>1085</th>\n",
       "      <td>labelme_cwyzvggchetltzv.jpg</td>\n",
       "      <td>1.71</td>\n",
       "      <td>NaN</td>\n",
       "    </tr>\n",
       "    <tr>\n",
       "      <th>1097</th>\n",
       "      <td>sun_aaqeqhpbmudvvcdj.jpg</td>\n",
       "      <td>1.50</td>\n",
       "      <td>NaN</td>\n",
       "    </tr>\n",
       "    <tr>\n",
       "      <th>1102</th>\n",
       "      <td>sun_abrrtrlvdghzzuxz.jpg</td>\n",
       "      <td>1.40</td>\n",
       "      <td>NaN</td>\n",
       "    </tr>\n",
       "  </tbody>\n",
       "</table>\n",
       "<p>75 rows × 3 columns</p>\n",
       "</div>"
      ],
      "text/plain": [
       "                       image_name  Natural labels\n",
       "214      sun_abnxhmmesrvgqazg.jpg     2.61    NaN\n",
       "224      sun_aglpxonwfoqtmeub.jpg     6.79    NaN\n",
       "239      sun_bbpefokgivhwzglh.jpg     1.58    NaN\n",
       "272      sun_bccjpnbmxhyfptmc.jpg     2.60    NaN\n",
       "274      sun_bbzwbfgqadhzqhqf.jpg     6.00    NaN\n",
       "...                           ...      ...    ...\n",
       "1076     sun_byyoeixlskdvtnxu.jpg     1.70    NaN\n",
       "1081     sun_badbdepxqipklvvf.jpg     6.93    NaN\n",
       "1085  labelme_cwyzvggchetltzv.jpg     1.71    NaN\n",
       "1097     sun_aaqeqhpbmudvvcdj.jpg     1.50    NaN\n",
       "1102     sun_abrrtrlvdghzzuxz.jpg     1.40    NaN\n",
       "\n",
       "[75 rows x 3 columns]"
      ]
     },
     "execution_count": 13,
     "metadata": {},
     "output_type": "execute_result"
    }
   ],
   "source": [
    "dataframe[miss_val]"
   ]
  },
  {
   "cell_type": "code",
   "execution_count": 14,
   "id": "3c18a0f7",
   "metadata": {},
   "outputs": [],
   "source": [
    "clean_df = dataframe[pd.notnull(dataframe['labels'])]"
   ]
  },
  {
   "cell_type": "code",
   "execution_count": 15,
   "id": "84f876d9",
   "metadata": {},
   "outputs": [
    {
     "data": {
      "text/plain": [
       "1030"
      ]
     },
     "execution_count": 15,
     "metadata": {},
     "output_type": "execute_result"
    }
   ],
   "source": [
    "len(clean_df)"
   ]
  },
  {
   "cell_type": "code",
   "execution_count": 16,
   "id": "f84526cc",
   "metadata": {},
   "outputs": [
    {
     "data": {
      "text/html": [
       "<div>\n",
       "<style scoped>\n",
       "    .dataframe tbody tr th:only-of-type {\n",
       "        vertical-align: middle;\n",
       "    }\n",
       "\n",
       "    .dataframe tbody tr th {\n",
       "        vertical-align: top;\n",
       "    }\n",
       "\n",
       "    .dataframe thead th {\n",
       "        text-align: right;\n",
       "    }\n",
       "</style>\n",
       "<table border=\"1\" class=\"dataframe\">\n",
       "  <thead>\n",
       "    <tr style=\"text-align: right;\">\n",
       "      <th></th>\n",
       "      <th>image_name</th>\n",
       "      <th>Natural</th>\n",
       "      <th>labels</th>\n",
       "    </tr>\n",
       "  </thead>\n",
       "  <tbody>\n",
       "    <tr>\n",
       "      <th>199</th>\n",
       "      <td>4463022243_8881fc7bda_o.jpg</td>\n",
       "      <td>1.47</td>\n",
       "      <td>[]</td>\n",
       "    </tr>\n",
       "    <tr>\n",
       "      <th>259</th>\n",
       "      <td>sun_bvnbbmftbvgjxxnf.jpg</td>\n",
       "      <td>6.42</td>\n",
       "      <td>[]</td>\n",
       "    </tr>\n",
       "    <tr>\n",
       "      <th>655</th>\n",
       "      <td>sun_bewlahslhahuvzjt.jpg</td>\n",
       "      <td>6.90</td>\n",
       "      <td>[]</td>\n",
       "    </tr>\n",
       "    <tr>\n",
       "      <th>960</th>\n",
       "      <td>sun_bdtmmtsvfiwkcdfh.jpg</td>\n",
       "      <td>1.12</td>\n",
       "      <td>[]</td>\n",
       "    </tr>\n",
       "    <tr>\n",
       "      <th>1059</th>\n",
       "      <td>sun_bkdzqjanktzjkvjb.jpg</td>\n",
       "      <td>4.28</td>\n",
       "      <td>[]</td>\n",
       "    </tr>\n",
       "    <tr>\n",
       "      <th>1100</th>\n",
       "      <td>sun_alewbcnalibklcwh.jpg</td>\n",
       "      <td>2.08</td>\n",
       "      <td>[]</td>\n",
       "    </tr>\n",
       "  </tbody>\n",
       "</table>\n",
       "</div>"
      ],
      "text/plain": [
       "                       image_name  Natural labels\n",
       "199   4463022243_8881fc7bda_o.jpg     1.47     []\n",
       "259      sun_bvnbbmftbvgjxxnf.jpg     6.42     []\n",
       "655      sun_bewlahslhahuvzjt.jpg     6.90     []\n",
       "960      sun_bdtmmtsvfiwkcdfh.jpg     1.12     []\n",
       "1059     sun_bkdzqjanktzjkvjb.jpg     4.28     []\n",
       "1100     sun_alewbcnalibklcwh.jpg     2.08     []"
      ]
     },
     "execution_count": 16,
     "metadata": {},
     "output_type": "execute_result"
    }
   ],
   "source": [
    "clean_df[clean_df['labels'] == \"[]\"]"
   ]
  },
  {
   "cell_type": "code",
   "execution_count": 17,
   "id": "5f03f907",
   "metadata": {},
   "outputs": [],
   "source": [
    "clean_df2 = clean_df[clean_df['labels'] != \"[]\"]"
   ]
  },
  {
   "cell_type": "code",
   "execution_count": 18,
   "id": "c40942a1",
   "metadata": {},
   "outputs": [
    {
     "data": {
      "text/html": [
       "<div>\n",
       "<style scoped>\n",
       "    .dataframe tbody tr th:only-of-type {\n",
       "        vertical-align: middle;\n",
       "    }\n",
       "\n",
       "    .dataframe tbody tr th {\n",
       "        vertical-align: top;\n",
       "    }\n",
       "\n",
       "    .dataframe thead th {\n",
       "        text-align: right;\n",
       "    }\n",
       "</style>\n",
       "<table border=\"1\" class=\"dataframe\">\n",
       "  <thead>\n",
       "    <tr style=\"text-align: right;\">\n",
       "      <th></th>\n",
       "      <th>image_name</th>\n",
       "      <th>Natural</th>\n",
       "      <th>labels</th>\n",
       "    </tr>\n",
       "  </thead>\n",
       "  <tbody>\n",
       "    <tr>\n",
       "      <th>0</th>\n",
       "      <td>5290333715_fbe95626ae_o.jpg</td>\n",
       "      <td>2.17</td>\n",
       "      <td>['Building(94.69%)', 'Daytime(94.46%)', 'Prope...</td>\n",
       "    </tr>\n",
       "    <tr>\n",
       "      <th>1</th>\n",
       "      <td>4357587050_d09069f341_o.jpg</td>\n",
       "      <td>2.00</td>\n",
       "      <td>['Building(95.83%)', 'Window(94.71%)', 'Proper...</td>\n",
       "    </tr>\n",
       "    <tr>\n",
       "      <th>2</th>\n",
       "      <td>sun_audijvtzzhgkrybg.jpg</td>\n",
       "      <td>2.04</td>\n",
       "      <td>['Daytime(94.42%)', 'Property(94.33%)', 'Sky(9...</td>\n",
       "    </tr>\n",
       "    <tr>\n",
       "      <th>3</th>\n",
       "      <td>sun_ajjodogkvthozlni.jpg</td>\n",
       "      <td>1.16</td>\n",
       "      <td>['Sky(95.29%)', 'Building(92.38%)', 'Urban des...</td>\n",
       "    </tr>\n",
       "    <tr>\n",
       "      <th>4</th>\n",
       "      <td>sun_dgqyeayssxdxcaim.jpg</td>\n",
       "      <td>1.85</td>\n",
       "      <td>['Sky(95.24%)', 'Cloud(93.56%)', 'Wood(85.84%)...</td>\n",
       "    </tr>\n",
       "  </tbody>\n",
       "</table>\n",
       "</div>"
      ],
      "text/plain": [
       "                    image_name  Natural  \\\n",
       "0  5290333715_fbe95626ae_o.jpg     2.17   \n",
       "1  4357587050_d09069f341_o.jpg     2.00   \n",
       "2     sun_audijvtzzhgkrybg.jpg     2.04   \n",
       "3     sun_ajjodogkvthozlni.jpg     1.16   \n",
       "4     sun_dgqyeayssxdxcaim.jpg     1.85   \n",
       "\n",
       "                                              labels  \n",
       "0  ['Building(94.69%)', 'Daytime(94.46%)', 'Prope...  \n",
       "1  ['Building(95.83%)', 'Window(94.71%)', 'Proper...  \n",
       "2  ['Daytime(94.42%)', 'Property(94.33%)', 'Sky(9...  \n",
       "3  ['Sky(95.29%)', 'Building(92.38%)', 'Urban des...  \n",
       "4  ['Sky(95.24%)', 'Cloud(93.56%)', 'Wood(85.84%)...  "
      ]
     },
     "execution_count": 18,
     "metadata": {},
     "output_type": "execute_result"
    }
   ],
   "source": [
    "clean_df2.head()"
   ]
  },
  {
   "cell_type": "code",
   "execution_count": 19,
   "id": "760314b3",
   "metadata": {},
   "outputs": [
    {
     "data": {
      "text/plain": [
       "10"
      ]
     },
     "execution_count": 19,
     "metadata": {},
     "output_type": "execute_result"
    }
   ],
   "source": [
    "len(clean_df2.loc[0]['labels'].split(\",\"))"
   ]
  },
  {
   "cell_type": "code",
   "execution_count": 20,
   "id": "a0de8c1a",
   "metadata": {},
   "outputs": [
    {
     "name": "stderr",
     "output_type": "stream",
     "text": [
      "<ipython-input-20-28bb8b0ee409>:3: SettingWithCopyWarning: \n",
      "A value is trying to be set on a copy of a slice from a DataFrame.\n",
      "Try using .loc[row_indexer,col_indexer] = value instead\n",
      "\n",
      "See the caveats in the documentation: https://pandas.pydata.org/pandas-docs/stable/user_guide/indexing.html#returning-a-view-versus-a-copy\n",
      "  dataframe['num_label'] = len(dataframe.iloc[x]['labels'].split(\",\"))\n"
     ]
    }
   ],
   "source": [
    "dataframe = clean_df2[:]\n",
    "for x in range(len(dataframe)):\n",
    "    dataframe['num_label'] = len(dataframe.iloc[x]['labels'].split(\",\"))"
   ]
  },
  {
   "cell_type": "code",
   "execution_count": 21,
   "id": "b2ac1397",
   "metadata": {},
   "outputs": [
    {
     "data": {
      "text/plain": [
       "10    1024\n",
       "Name: num_label, dtype: int64"
      ]
     },
     "execution_count": 21,
     "metadata": {},
     "output_type": "execute_result"
    }
   ],
   "source": [
    "dataframe['num_label'].value_counts()"
   ]
  },
  {
   "cell_type": "code",
   "execution_count": 22,
   "id": "2b98d036",
   "metadata": {},
   "outputs": [
    {
     "data": {
      "text/plain": [
       "\"['Building(94.69%)', 'Daytime(94.46%)', 'Property(94.19%)', 'Window(93.62%)', 'Fixture(89.73%)', 'Rectangle(89.13%)', 'Wood(87.84%)', 'Brickwork(84.52%)', 'Brick(81.78%)', 'Material property(80.02%)']\""
      ]
     },
     "execution_count": 22,
     "metadata": {},
     "output_type": "execute_result"
    }
   ],
   "source": [
    "dataframe['labels'][0]"
   ]
  },
  {
   "cell_type": "code",
   "execution_count": 23,
   "id": "168b79f3",
   "metadata": {},
   "outputs": [
    {
     "name": "stderr",
     "output_type": "stream",
     "text": [
      "<ipython-input-23-6b1ef56223ca>:1: SettingWithCopyWarning: \n",
      "A value is trying to be set on a copy of a slice from a DataFrame.\n",
      "Try using .loc[row_indexer,col_indexer] = value instead\n",
      "\n",
      "See the caveats in the documentation: https://pandas.pydata.org/pandas-docs/stable/user_guide/indexing.html#returning-a-view-versus-a-copy\n",
      "  dataframe['labels'] = dataframe.labels.apply(lambda x: x[1:-1].split(','))\n"
     ]
    }
   ],
   "source": [
    "dataframe['labels'] = dataframe.labels.apply(lambda x: x[1:-1].split(','))"
   ]
  },
  {
   "cell_type": "code",
   "execution_count": 24,
   "id": "48ef85d7",
   "metadata": {},
   "outputs": [
    {
     "data": {
      "text/plain": [
       "[\"'Plant(96.86%)'\",\n",
       " \" 'Sky(95.66%)'\",\n",
       " \" 'Window(93.54%)'\",\n",
       " \" 'Building(93.38%)'\",\n",
       " \" 'Natural landscape(87.61%)'\",\n",
       " \" 'Tree(86.92%)'\",\n",
       " \" 'Wood(86.53%)'\",\n",
       " \" 'Land lot(84.65%)'\",\n",
       " \" 'Cottage(82.20%)'\",\n",
       " \" 'Grass(81.34%)'\"]"
      ]
     },
     "execution_count": 24,
     "metadata": {},
     "output_type": "execute_result"
    }
   ],
   "source": [
    "dataframe['labels'][9]"
   ]
  },
  {
   "cell_type": "code",
   "execution_count": 73,
   "id": "c8fe2f78",
   "metadata": {},
   "outputs": [
    {
     "data": {
      "text/plain": [
       "4.845"
      ]
     },
     "execution_count": 73,
     "metadata": {},
     "output_type": "execute_result"
    }
   ],
   "source": [
    "np.median(dataframe['Natural'])"
   ]
  },
  {
   "cell_type": "code",
   "execution_count": 75,
   "id": "2c37f50f",
   "metadata": {},
   "outputs": [],
   "source": [
    "nature = dataframe[dataframe['Natural'] >= 4.845]\n",
    "urban = dataframe[dataframe['Natural'] < 4.845]"
   ]
  },
  {
   "cell_type": "code",
   "execution_count": 76,
   "id": "7a560b50",
   "metadata": {},
   "outputs": [
    {
     "data": {
      "text/html": [
       "<div>\n",
       "<style scoped>\n",
       "    .dataframe tbody tr th:only-of-type {\n",
       "        vertical-align: middle;\n",
       "    }\n",
       "\n",
       "    .dataframe tbody tr th {\n",
       "        vertical-align: top;\n",
       "    }\n",
       "\n",
       "    .dataframe thead th {\n",
       "        text-align: right;\n",
       "    }\n",
       "</style>\n",
       "<table border=\"1\" class=\"dataframe\">\n",
       "  <thead>\n",
       "    <tr style=\"text-align: right;\">\n",
       "      <th></th>\n",
       "      <th>image_name</th>\n",
       "      <th>Natural</th>\n",
       "      <th>labels</th>\n",
       "      <th>num_label</th>\n",
       "      <th>image_vec</th>\n",
       "    </tr>\n",
       "  </thead>\n",
       "  <tbody>\n",
       "    <tr>\n",
       "      <th>117</th>\n",
       "      <td>sun_aexrahannecqdkfz.jpg</td>\n",
       "      <td>5.65</td>\n",
       "      <td>['Plant(94.23%)',  'Tree(88.47%)',  'Natural l...</td>\n",
       "      <td>10</td>\n",
       "      <td>[8.082804463832872, -7.240915611386299, -42.49...</td>\n",
       "    </tr>\n",
       "    <tr>\n",
       "      <th>118</th>\n",
       "      <td>sun_bkueaxewlzijtzmy.jpg</td>\n",
       "      <td>6.30</td>\n",
       "      <td>['Plant community(93.05%)',  'Plant(92.89%)', ...</td>\n",
       "      <td>10</td>\n",
       "      <td>[8.047585733846063, -6.94417726714164, -42.903...</td>\n",
       "    </tr>\n",
       "    <tr>\n",
       "      <th>150</th>\n",
       "      <td>sun_bhzexsxsxhcodhaj.jpg</td>\n",
       "      <td>6.84</td>\n",
       "      <td>['Plant(93.59%)',  'Tree(86.75%)',  'Terrestri...</td>\n",
       "      <td>10</td>\n",
       "      <td>[10.391329474077793, -5.853386136703193, -59.8...</td>\n",
       "    </tr>\n",
       "    <tr>\n",
       "      <th>159</th>\n",
       "      <td>sun_bcduirgbwfrrefxx.jpg</td>\n",
       "      <td>6.94</td>\n",
       "      <td>['Cloud(97.26%)',  'Sky(97.08%)',  'Mountain(8...</td>\n",
       "      <td>10</td>\n",
       "      <td>[11.443270297866547, -9.510876868851483, -65.0...</td>\n",
       "    </tr>\n",
       "    <tr>\n",
       "      <th>162</th>\n",
       "      <td>sun_bqkcqwvhefnkcinz.jpg</td>\n",
       "      <td>6.71</td>\n",
       "      <td>['Plant(95.85%)',  'Tree(89.92%)',  'Natural l...</td>\n",
       "      <td>10</td>\n",
       "      <td>[11.486757090809988, -9.894744149409235, -66.4...</td>\n",
       "    </tr>\n",
       "  </tbody>\n",
       "</table>\n",
       "</div>"
      ],
      "text/plain": [
       "                   image_name  Natural  \\\n",
       "117  sun_aexrahannecqdkfz.jpg     5.65   \n",
       "118  sun_bkueaxewlzijtzmy.jpg     6.30   \n",
       "150  sun_bhzexsxsxhcodhaj.jpg     6.84   \n",
       "159  sun_bcduirgbwfrrefxx.jpg     6.94   \n",
       "162  sun_bqkcqwvhefnkcinz.jpg     6.71   \n",
       "\n",
       "                                                labels  num_label  \\\n",
       "117  ['Plant(94.23%)',  'Tree(88.47%)',  'Natural l...         10   \n",
       "118  ['Plant community(93.05%)',  'Plant(92.89%)', ...         10   \n",
       "150  ['Plant(93.59%)',  'Tree(86.75%)',  'Terrestri...         10   \n",
       "159  ['Cloud(97.26%)',  'Sky(97.08%)',  'Mountain(8...         10   \n",
       "162  ['Plant(95.85%)',  'Tree(89.92%)',  'Natural l...         10   \n",
       "\n",
       "                                             image_vec  \n",
       "117  [8.082804463832872, -7.240915611386299, -42.49...  \n",
       "118  [8.047585733846063, -6.94417726714164, -42.903...  \n",
       "150  [10.391329474077793, -5.853386136703193, -59.8...  \n",
       "159  [11.443270297866547, -9.510876868851483, -65.0...  \n",
       "162  [11.486757090809988, -9.894744149409235, -66.4...  "
      ]
     },
     "execution_count": 76,
     "metadata": {},
     "output_type": "execute_result"
    }
   ],
   "source": [
    "nature.head()"
   ]
  },
  {
   "cell_type": "code",
   "execution_count": 77,
   "id": "4d817aeb",
   "metadata": {},
   "outputs": [
    {
     "data": {
      "text/plain": [
       "512"
      ]
     },
     "execution_count": 77,
     "metadata": {},
     "output_type": "execute_result"
    }
   ],
   "source": [
    "nature['labels'].count()"
   ]
  },
  {
   "cell_type": "code",
   "execution_count": 25,
   "id": "389b9df5",
   "metadata": {},
   "outputs": [
    {
     "name": "stdout",
     "output_type": "stream",
     "text": [
      "/Users/liyutai/gensim-data/word2vec-google-news-300/word2vec-google-news-300.gz\n"
     ]
    }
   ],
   "source": [
    "import gensim.downloader as api\n",
    "path = api.load(\"word2vec-google-news-300\", return_path=True)\n",
    "print(path)"
   ]
  },
  {
   "cell_type": "code",
   "execution_count": 26,
   "id": "20117ed2",
   "metadata": {},
   "outputs": [
    {
     "data": {
      "text/plain": [
       "['Water',\n",
       " ' ',\n",
       " 'Window',\n",
       " ' ',\n",
       " 'Branch',\n",
       " ' ',\n",
       " 'Tree',\n",
       " ' ',\n",
       " 'Watercourse',\n",
       " ' ',\n",
       " 'Body of water',\n",
       " ' ',\n",
       " 'Atmospheric phenomenon',\n",
       " ' ',\n",
       " 'House',\n",
       " ' ',\n",
       " 'Fluvial landforms of streams',\n",
       " ' ',\n",
       " 'Freezing']"
      ]
     },
     "execution_count": 26,
     "metadata": {},
     "output_type": "execute_result"
    }
   ],
   "source": [
    "import re\n",
    "txt = \",\".join(dataframe['labels'][25])\n",
    "txt\n",
    "# bool(re.search(r\"[a-zA-Z]+\\s[a-zA-Z]+\", txt))\n",
    "# re.findall(r\"\\d\\d.\\d\\d\",txt)\n",
    "# re.findall(r\"[a-zA-Z]+\",txt)\n",
    "re.findall(r\"[a-zA-Z\\s]+\", txt)"
   ]
  },
  {
   "cell_type": "code",
   "execution_count": 27,
   "id": "6d635818",
   "metadata": {},
   "outputs": [
    {
     "data": {
      "text/plain": [
       "[\"'Cloud(97.94%)'\",\n",
       " \" 'Sky(94.59%)'\",\n",
       " \" 'Cumulus(78.92%)'\",\n",
       " \" 'Calm(73.97%)'\",\n",
       " \" 'Meteorological phenomenon(68.10%)'\",\n",
       " \" 'Electric blue(64.97%)'\"]"
      ]
     },
     "execution_count": 27,
     "metadata": {},
     "output_type": "execute_result"
    }
   ],
   "source": [
    "dataframe.iloc[603]['labels']"
   ]
  },
  {
   "cell_type": "code",
   "execution_count": 80,
   "id": "dd9e55ef",
   "metadata": {},
   "outputs": [],
   "source": [
    "def get_label_list(dataframe):\n",
    "    all_label = []\n",
    "    for word_list in dataframe['labels'].values:\n",
    "    #     print(word_list)\n",
    "        for word in word_list:\n",
    "            if bool(re.search(r\"[a-zA-Z]+[^a-zA-Z0-9_][a-zA-Z]+\", word)):\n",
    "    #             print(word)\n",
    "                label = re.findall(r\"[a-zA-Z\\s-]+\", word)\n",
    "                for x in label:\n",
    "                    if x != \" \":\n",
    "                        all_label.append(x)\n",
    "            else:\n",
    "                labels = re.findall(r\"[a-zA-Z]+\", word)\n",
    "    #             print(labels)\n",
    "                all_label.extend(labels)\n",
    "    \n",
    "    return all_label\n",
    "\n",
    "# print(len(all_label))\n",
    "   "
   ]
  },
  {
   "cell_type": "code",
   "execution_count": 82,
   "id": "8a461a6b",
   "metadata": {},
   "outputs": [
    {
     "data": {
      "text/plain": [
       "10236"
      ]
     },
     "execution_count": 82,
     "metadata": {},
     "output_type": "execute_result"
    }
   ],
   "source": [
    "all_label = get_label_list(dataframe)\n",
    "len(all_label)"
   ]
  },
  {
   "cell_type": "code",
   "execution_count": 83,
   "id": "76ca0b49",
   "metadata": {},
   "outputs": [],
   "source": [
    "natural_label = get_label_list(nature)\n",
    "urban_label = get_label_list(urban)"
   ]
  },
  {
   "cell_type": "code",
   "execution_count": 86,
   "id": "c5ecdfbb",
   "metadata": {},
   "outputs": [
    {
     "data": {
      "text/plain": [
       "200"
      ]
     },
     "execution_count": 86,
     "metadata": {},
     "output_type": "execute_result"
    }
   ],
   "source": [
    "unique_nature = set(natural_label)\n",
    "len(unique_nature)"
   ]
  },
  {
   "cell_type": "code",
   "execution_count": 87,
   "id": "22cd5dba",
   "metadata": {},
   "outputs": [
    {
     "data": {
      "text/plain": [
       "242"
      ]
     },
     "execution_count": 87,
     "metadata": {},
     "output_type": "execute_result"
    }
   ],
   "source": [
    "unique_urban = set(urban_label)\n",
    "len(unique_urban)"
   ]
  },
  {
   "cell_type": "code",
   "execution_count": 29,
   "id": "2180de8a",
   "metadata": {},
   "outputs": [
    {
     "data": {
      "text/plain": [
       "(10236, 361)"
      ]
     },
     "execution_count": 29,
     "metadata": {},
     "output_type": "execute_result"
    }
   ],
   "source": [
    "from sklearn.feature_extraction.text import CountVectorizer\n",
    "ct_vec = CountVectorizer()\n",
    "X = ct_vec.fit_transform(all_label)\n",
    "X.shape"
   ]
  },
  {
   "cell_type": "code",
   "execution_count": 30,
   "id": "8d4d030a",
   "metadata": {},
   "outputs": [
    {
     "data": {
      "text/plain": [
       "341"
      ]
     },
     "execution_count": 30,
     "metadata": {},
     "output_type": "execute_result"
    }
   ],
   "source": [
    "unique_label = set(all_label)\n",
    "len(unique_label)"
   ]
  },
  {
   "cell_type": "code",
   "execution_count": 31,
   "id": "d4309d36",
   "metadata": {},
   "outputs": [
    {
     "data": {
      "text/plain": [
       "{'Sky': 795,\n",
       " 'Plant': 666,\n",
       " 'Natural landscape': 556,\n",
       " 'Tree': 515,\n",
       " 'Cloud': 396,\n",
       " 'Building': 387,\n",
       " 'Window': 324,\n",
       " 'Grass': 274,\n",
       " 'Landscape': 259,\n",
       " 'Mountain': 241,\n",
       " 'Wood': 219,\n",
       " 'Water': 184,\n",
       " 'House': 181,\n",
       " 'Land lot': 177,\n",
       " 'Plant community': 135,\n",
       " 'Terrestrial plant': 124,\n",
       " 'Bedrock': 119,\n",
       " 'Terrain': 116,\n",
       " 'Formation': 105}"
      ]
     },
     "execution_count": 31,
     "metadata": {},
     "output_type": "execute_result"
    }
   ],
   "source": [
    "from collections import Counter\n",
    "c = Counter(all_label)\n",
    "d_label = dict((k, v) for k, v in sorted(c.items()) if v >= 100)\n",
    "sorted_label = {}\n",
    "sorted_keys = sorted(d_label, key=d_label.get, reverse=True)  # [1, 3, 2]\n",
    "for w in sorted_keys:\n",
    "    sorted_label[w] = d_label[w]\n",
    "sorted_label"
   ]
  },
  {
   "cell_type": "code",
   "execution_count": 32,
   "id": "ed06f9d7",
   "metadata": {},
   "outputs": [
    {
     "data": {
      "text/plain": [
       "Text(0.9, 0.15, 'label frequency plot')"
      ]
     },
     "execution_count": 32,
     "metadata": {},
     "output_type": "execute_result"
    },
    {
     "data": {
      "image/png": "[encoded data removed]",
      "text/plain": [
       "<Figure size 1152x648 with 1 Axes>"
      ]
     },
     "metadata": {
      "needs_background": "light"
     },
     "output_type": "display_data"
    }
   ],
   "source": [
    "import matplotlib.pyplot as plt\n",
    "%matplotlib inline\n",
    "# Figure Size\n",
    "fig, ax = plt.subplots(figsize =(16, 9))\n",
    " \n",
    "# Horizontal Bar Plot\n",
    "ax.barh(list(sorted_label.keys()),list(sorted_label.values()))\n",
    " \n",
    "# Remove axes splines\n",
    "for s in ['top', 'bottom', 'left', 'right']:\n",
    "        ax.spines[s].set_visible(False)\n",
    " \n",
    "# Remove x, y Ticks\n",
    "ax.xaxis.set_ticks_position('none')\n",
    "ax.yaxis.set_ticks_position('none')\n",
    " \n",
    "# Add padding between axes and labels\n",
    "ax.xaxis.set_tick_params(pad = 5)\n",
    "ax.yaxis.set_tick_params(pad = 10)\n",
    " \n",
    "# Add x, y gridlines\n",
    "ax.grid(b = True, color ='grey',\n",
    "        linestyle ='-.', linewidth = 0.5,\n",
    "        alpha = 0.2)\n",
    " \n",
    "# Show top values\n",
    "ax.invert_yaxis()\n",
    " \n",
    "# Add annotation to bars\n",
    "for i in ax.patches:\n",
    "        plt.text(i.get_width()+0.2, i.get_y()+0.5,\n",
    "             str(round((i.get_width()), 2)),\n",
    "             fontsize = 10, fontweight ='bold',\n",
    "             color ='grey')\n",
    " \n",
    "# Add Plot Title\n",
    "ax.set_title('label frequency',\n",
    "             loc ='left', )\n",
    " \n",
    "# Add Text watermark\n",
    "fig.text(0.9, 0.15, 'label frequency plot', fontsize = 12,\n",
    "         color ='grey', ha ='right', va ='bottom',\n",
    "         alpha = 0.7)"
   ]
  },
  {
   "cell_type": "code",
   "execution_count": 33,
   "id": "c75a1d47",
   "metadata": {},
   "outputs": [],
   "source": [
    "from gensim.models import Word2Vec, KeyedVectors\n",
    "import nltk"
   ]
  },
  {
   "cell_type": "code",
   "execution_count": 34,
   "id": "aa177517",
   "metadata": {},
   "outputs": [],
   "source": [
    "model = KeyedVectors.load_word2vec_format(\"word2vec-google-news-300\", binary = True)"
   ]
  },
  {
   "cell_type": "code",
   "execution_count": 35,
   "id": "e3a81a41",
   "metadata": {},
   "outputs": [
    {
     "data": {
      "text/plain": [
       "(300,)"
      ]
     },
     "execution_count": 35,
     "metadata": {},
     "output_type": "execute_result"
    }
   ],
   "source": [
    "model['urban'].shape"
   ]
  },
  {
   "cell_type": "code",
   "execution_count": 36,
   "id": "e8b66aca",
   "metadata": {},
   "outputs": [
    {
     "name": "stderr",
     "output_type": "stream",
     "text": [
      "<ipython-input-36-84ac849a187d>:2: SettingWithCopyWarning: \n",
      "A value is trying to be set on a copy of a slice from a DataFrame.\n",
      "Try using .loc[row_indexer,col_indexer] = value instead\n",
      "\n",
      "See the caveats in the documentation: https://pandas.pydata.org/pandas-docs/stable/user_guide/indexing.html#returning-a-view-versus-a-copy\n",
      "  copy['image_vec'] = 1\n"
     ]
    },
    {
     "data": {
      "text/html": [
       "<div>\n",
       "<style scoped>\n",
       "    .dataframe tbody tr th:only-of-type {\n",
       "        vertical-align: middle;\n",
       "    }\n",
       "\n",
       "    .dataframe tbody tr th {\n",
       "        vertical-align: top;\n",
       "    }\n",
       "\n",
       "    .dataframe thead th {\n",
       "        text-align: right;\n",
       "    }\n",
       "</style>\n",
       "<table border=\"1\" class=\"dataframe\">\n",
       "  <thead>\n",
       "    <tr style=\"text-align: right;\">\n",
       "      <th></th>\n",
       "      <th>image_name</th>\n",
       "      <th>Natural</th>\n",
       "      <th>labels</th>\n",
       "      <th>num_label</th>\n",
       "      <th>image_vec</th>\n",
       "    </tr>\n",
       "  </thead>\n",
       "  <tbody>\n",
       "    <tr>\n",
       "      <th>0</th>\n",
       "      <td>5290333715_fbe95626ae_o.jpg</td>\n",
       "      <td>2.17</td>\n",
       "      <td>['Building(94.69%)',  'Daytime(94.46%)',  'Pro...</td>\n",
       "      <td>10</td>\n",
       "      <td>1</td>\n",
       "    </tr>\n",
       "    <tr>\n",
       "      <th>1</th>\n",
       "      <td>4357587050_d09069f341_o.jpg</td>\n",
       "      <td>2.00</td>\n",
       "      <td>['Building(95.83%)',  'Window(94.71%)',  'Prop...</td>\n",
       "      <td>10</td>\n",
       "      <td>1</td>\n",
       "    </tr>\n",
       "    <tr>\n",
       "      <th>2</th>\n",
       "      <td>sun_audijvtzzhgkrybg.jpg</td>\n",
       "      <td>2.04</td>\n",
       "      <td>['Daytime(94.42%)',  'Property(94.33%)',  'Sky...</td>\n",
       "      <td>10</td>\n",
       "      <td>1</td>\n",
       "    </tr>\n",
       "    <tr>\n",
       "      <th>3</th>\n",
       "      <td>sun_ajjodogkvthozlni.jpg</td>\n",
       "      <td>1.16</td>\n",
       "      <td>['Sky(95.29%)',  'Building(92.38%)',  'Urban d...</td>\n",
       "      <td>10</td>\n",
       "      <td>1</td>\n",
       "    </tr>\n",
       "    <tr>\n",
       "      <th>4</th>\n",
       "      <td>sun_dgqyeayssxdxcaim.jpg</td>\n",
       "      <td>1.85</td>\n",
       "      <td>['Sky(95.24%)',  'Cloud(93.56%)',  'Wood(85.84...</td>\n",
       "      <td>10</td>\n",
       "      <td>1</td>\n",
       "    </tr>\n",
       "    <tr>\n",
       "      <th>...</th>\n",
       "      <td>...</td>\n",
       "      <td>...</td>\n",
       "      <td>...</td>\n",
       "      <td>...</td>\n",
       "      <td>...</td>\n",
       "    </tr>\n",
       "    <tr>\n",
       "      <th>1098</th>\n",
       "      <td>sun_aaebuzkvqtkqiact.jpg</td>\n",
       "      <td>1.42</td>\n",
       "      <td>['Car(96.98%)',  'Land vehicle(96.81%)',  'Sky...</td>\n",
       "      <td>10</td>\n",
       "      <td>1</td>\n",
       "    </tr>\n",
       "    <tr>\n",
       "      <th>1099</th>\n",
       "      <td>sun_bcgdmlmaojjqcaxq.jpg</td>\n",
       "      <td>1.08</td>\n",
       "      <td>['Shelf(95.56%)',  'Bookcase(93.95%)',  'Shelv...</td>\n",
       "      <td>10</td>\n",
       "      <td>1</td>\n",
       "    </tr>\n",
       "    <tr>\n",
       "      <th>1101</th>\n",
       "      <td>sun_aphsqddlotnzlzvk.jpg</td>\n",
       "      <td>1.76</td>\n",
       "      <td>['Cloud(96.74%)',  'Sky(96.56%)',  'Building(9...</td>\n",
       "      <td>10</td>\n",
       "      <td>1</td>\n",
       "    </tr>\n",
       "    <tr>\n",
       "      <th>1103</th>\n",
       "      <td>sun_bvgfkvcwscgrhenm.jpg</td>\n",
       "      <td>1.23</td>\n",
       "      <td>['Bookcase(95.80%)',  'Furniture(95.16%)',  'T...</td>\n",
       "      <td>10</td>\n",
       "      <td>1</td>\n",
       "    </tr>\n",
       "    <tr>\n",
       "      <th>1104</th>\n",
       "      <td>sun_brhnenzovufqzizy.jpg</td>\n",
       "      <td>1.48</td>\n",
       "      <td>['Sky(97.32%)',  'Skyscraper(96.21%)',  'Build...</td>\n",
       "      <td>10</td>\n",
       "      <td>1</td>\n",
       "    </tr>\n",
       "  </tbody>\n",
       "</table>\n",
       "<p>1024 rows × 5 columns</p>\n",
       "</div>"
      ],
      "text/plain": [
       "                       image_name  Natural  \\\n",
       "0     5290333715_fbe95626ae_o.jpg     2.17   \n",
       "1     4357587050_d09069f341_o.jpg     2.00   \n",
       "2        sun_audijvtzzhgkrybg.jpg     2.04   \n",
       "3        sun_ajjodogkvthozlni.jpg     1.16   \n",
       "4        sun_dgqyeayssxdxcaim.jpg     1.85   \n",
       "...                           ...      ...   \n",
       "1098     sun_aaebuzkvqtkqiact.jpg     1.42   \n",
       "1099     sun_bcgdmlmaojjqcaxq.jpg     1.08   \n",
       "1101     sun_aphsqddlotnzlzvk.jpg     1.76   \n",
       "1103     sun_bvgfkvcwscgrhenm.jpg     1.23   \n",
       "1104     sun_brhnenzovufqzizy.jpg     1.48   \n",
       "\n",
       "                                                 labels  num_label  image_vec  \n",
       "0     ['Building(94.69%)',  'Daytime(94.46%)',  'Pro...         10          1  \n",
       "1     ['Building(95.83%)',  'Window(94.71%)',  'Prop...         10          1  \n",
       "2     ['Daytime(94.42%)',  'Property(94.33%)',  'Sky...         10          1  \n",
       "3     ['Sky(95.29%)',  'Building(92.38%)',  'Urban d...         10          1  \n",
       "4     ['Sky(95.24%)',  'Cloud(93.56%)',  'Wood(85.84...         10          1  \n",
       "...                                                 ...        ...        ...  \n",
       "1098  ['Car(96.98%)',  'Land vehicle(96.81%)',  'Sky...         10          1  \n",
       "1099  ['Shelf(95.56%)',  'Bookcase(93.95%)',  'Shelv...         10          1  \n",
       "1101  ['Cloud(96.74%)',  'Sky(96.56%)',  'Building(9...         10          1  \n",
       "1103  ['Bookcase(95.80%)',  'Furniture(95.16%)',  'T...         10          1  \n",
       "1104  ['Sky(97.32%)',  'Skyscraper(96.21%)',  'Build...         10          1  \n",
       "\n",
       "[1024 rows x 5 columns]"
      ]
     },
     "execution_count": 36,
     "metadata": {},
     "output_type": "execute_result"
    }
   ],
   "source": [
    "copy = dataframe[:]\n",
    "copy['image_vec'] = 1\n",
    "copy"
   ]
  },
  {
   "cell_type": "code",
   "execution_count": 37,
   "id": "b166beda",
   "metadata": {},
   "outputs": [
    {
     "name": "stderr",
     "output_type": "stream",
     "text": [
      "<ipython-input-37-072a7043e73f>:14: SettingWithCopyWarning: \n",
      "A value is trying to be set on a copy of a slice from a DataFrame.\n",
      "Try using .loc[row_indexer,col_indexer] = value instead\n",
      "\n",
      "See the caveats in the documentation: https://pandas.pydata.org/pandas-docs/stable/user_guide/indexing.html#returning-a-view-versus-a-copy\n",
      "  dataframe['image_vec'] = image_vec_list\n"
     ]
    }
   ],
   "source": [
    "image_vec_list = []\n",
    "for word_list in dataframe['labels'].values:\n",
    "    image_vec = np.empty(300,)\n",
    "    for word in word_list:\n",
    "        labels = re.findall(r\"[a-zA-Z]+\", word)\n",
    "        score = re.findall(r\"\\d\\d.\\d\\d\", word)\n",
    "#         print(type(labels[0]), type(score[0]))\n",
    "        try:\n",
    "            image_vec += model[labels[0]] * (float(score[0])/100)\n",
    "        except:\n",
    "            pass\n",
    "    image_vec = np.nan_to_num(image_vec,np.mean(image_vec))\n",
    "    image_vec_list.append(image_vec)\n",
    "dataframe['image_vec'] = image_vec_list"
   ]
  },
  {
   "cell_type": "code",
   "execution_count": 38,
   "id": "f24a27f8",
   "metadata": {},
   "outputs": [
    {
     "data": {
      "text/html": [
       "<div>\n",
       "<style scoped>\n",
       "    .dataframe tbody tr th:only-of-type {\n",
       "        vertical-align: middle;\n",
       "    }\n",
       "\n",
       "    .dataframe tbody tr th {\n",
       "        vertical-align: top;\n",
       "    }\n",
       "\n",
       "    .dataframe thead th {\n",
       "        text-align: right;\n",
       "    }\n",
       "</style>\n",
       "<table border=\"1\" class=\"dataframe\">\n",
       "  <thead>\n",
       "    <tr style=\"text-align: right;\">\n",
       "      <th></th>\n",
       "      <th>image_name</th>\n",
       "      <th>Natural</th>\n",
       "      <th>labels</th>\n",
       "      <th>num_label</th>\n",
       "      <th>image_vec</th>\n",
       "    </tr>\n",
       "  </thead>\n",
       "  <tbody>\n",
       "    <tr>\n",
       "      <th>0</th>\n",
       "      <td>5290333715_fbe95626ae_o.jpg</td>\n",
       "      <td>2.17</td>\n",
       "      <td>['Building(94.69%)',  'Daytime(94.46%)',  'Pro...</td>\n",
       "      <td>10</td>\n",
       "      <td>[-0.39003044669516385, 0.4208001773804426, -0....</td>\n",
       "    </tr>\n",
       "    <tr>\n",
       "      <th>1</th>\n",
       "      <td>4357587050_d09069f341_o.jpg</td>\n",
       "      <td>2.00</td>\n",
       "      <td>['Building(95.83%)',  'Window(94.71%)',  'Prop...</td>\n",
       "      <td>10</td>\n",
       "      <td>[0.0016448663081973791, -0.028168179094791412,...</td>\n",
       "    </tr>\n",
       "    <tr>\n",
       "      <th>2</th>\n",
       "      <td>sun_audijvtzzhgkrybg.jpg</td>\n",
       "      <td>2.04</td>\n",
       "      <td>['Daytime(94.42%)',  'Property(94.33%)',  'Sky...</td>\n",
       "      <td>10</td>\n",
       "      <td>[0.01585036120377481, 0.6225766148418188, -0.2...</td>\n",
       "    </tr>\n",
       "    <tr>\n",
       "      <th>3</th>\n",
       "      <td>sun_ajjodogkvthozlni.jpg</td>\n",
       "      <td>1.16</td>\n",
       "      <td>['Sky(95.29%)',  'Building(92.38%)',  'Urban d...</td>\n",
       "      <td>10</td>\n",
       "      <td>[-0.16706869518384337, 0.103137182071805, -0.3...</td>\n",
       "    </tr>\n",
       "    <tr>\n",
       "      <th>4</th>\n",
       "      <td>sun_dgqyeayssxdxcaim.jpg</td>\n",
       "      <td>1.85</td>\n",
       "      <td>['Sky(95.24%)',  'Cloud(93.56%)',  'Wood(85.84...</td>\n",
       "      <td>10</td>\n",
       "      <td>[-0.21300692623481154, 0.25347540341317654, -0...</td>\n",
       "    </tr>\n",
       "  </tbody>\n",
       "</table>\n",
       "</div>"
      ],
      "text/plain": [
       "                    image_name  Natural  \\\n",
       "0  5290333715_fbe95626ae_o.jpg     2.17   \n",
       "1  4357587050_d09069f341_o.jpg     2.00   \n",
       "2     sun_audijvtzzhgkrybg.jpg     2.04   \n",
       "3     sun_ajjodogkvthozlni.jpg     1.16   \n",
       "4     sun_dgqyeayssxdxcaim.jpg     1.85   \n",
       "\n",
       "                                              labels  num_label  \\\n",
       "0  ['Building(94.69%)',  'Daytime(94.46%)',  'Pro...         10   \n",
       "1  ['Building(95.83%)',  'Window(94.71%)',  'Prop...         10   \n",
       "2  ['Daytime(94.42%)',  'Property(94.33%)',  'Sky...         10   \n",
       "3  ['Sky(95.29%)',  'Building(92.38%)',  'Urban d...         10   \n",
       "4  ['Sky(95.24%)',  'Cloud(93.56%)',  'Wood(85.84...         10   \n",
       "\n",
       "                                           image_vec  \n",
       "0  [-0.39003044669516385, 0.4208001773804426, -0....  \n",
       "1  [0.0016448663081973791, -0.028168179094791412,...  \n",
       "2  [0.01585036120377481, 0.6225766148418188, -0.2...  \n",
       "3  [-0.16706869518384337, 0.103137182071805, -0.3...  \n",
       "4  [-0.21300692623481154, 0.25347540341317654, -0...  "
      ]
     },
     "execution_count": 38,
     "metadata": {},
     "output_type": "execute_result"
    }
   ],
   "source": [
    "dataframe.head()"
   ]
  },
  {
   "cell_type": "code",
   "execution_count": 39,
   "id": "b485de3c",
   "metadata": {},
   "outputs": [],
   "source": [
    "dataframe.to_csv('image_vec.csv')"
   ]
  },
  {
   "cell_type": "code",
   "execution_count": 40,
   "id": "51d35668",
   "metadata": {},
   "outputs": [
    {
     "data": {
      "text/plain": [
       "(300,)"
      ]
     },
     "execution_count": 40,
     "metadata": {},
     "output_type": "execute_result"
    }
   ],
   "source": [
    "(dataframe['image_vec'][0]-dataframe['image_vec'][1]).shape"
   ]
  },
  {
   "cell_type": "code",
   "execution_count": 41,
   "id": "1d1e03f0",
   "metadata": {},
   "outputs": [],
   "source": [
    "all_vec = dataframe['image_vec'].values"
   ]
  },
  {
   "cell_type": "code",
   "execution_count": 42,
   "id": "f24964a1",
   "metadata": {},
   "outputs": [],
   "source": [
    "all_vec = np.stack(all_vec).astype(None)\n",
    "all_new_vec = all_vec.reshape(1024,300)\n",
    "all_new_vec = np.nan_to_num(all_new_vec)"
   ]
  },
  {
   "cell_type": "code",
   "execution_count": 43,
   "id": "254904c0",
   "metadata": {},
   "outputs": [],
   "source": [
    "copy = pd.DataFrame(all_new_vec)"
   ]
  },
  {
   "cell_type": "code",
   "execution_count": 44,
   "id": "7da0e9cc",
   "metadata": {},
   "outputs": [
    {
     "data": {
      "text/html": [
       "<div>\n",
       "<style scoped>\n",
       "    .dataframe tbody tr th:only-of-type {\n",
       "        vertical-align: middle;\n",
       "    }\n",
       "\n",
       "    .dataframe tbody tr th {\n",
       "        vertical-align: top;\n",
       "    }\n",
       "\n",
       "    .dataframe thead th {\n",
       "        text-align: right;\n",
       "    }\n",
       "</style>\n",
       "<table border=\"1\" class=\"dataframe\">\n",
       "  <thead>\n",
       "    <tr style=\"text-align: right;\">\n",
       "      <th></th>\n",
       "      <th>0</th>\n",
       "      <th>1</th>\n",
       "      <th>2</th>\n",
       "      <th>3</th>\n",
       "      <th>4</th>\n",
       "      <th>5</th>\n",
       "      <th>6</th>\n",
       "      <th>7</th>\n",
       "      <th>8</th>\n",
       "      <th>9</th>\n",
       "      <th>...</th>\n",
       "      <th>290</th>\n",
       "      <th>291</th>\n",
       "      <th>292</th>\n",
       "      <th>293</th>\n",
       "      <th>294</th>\n",
       "      <th>295</th>\n",
       "      <th>296</th>\n",
       "      <th>297</th>\n",
       "      <th>298</th>\n",
       "      <th>299</th>\n",
       "    </tr>\n",
       "  </thead>\n",
       "  <tbody>\n",
       "    <tr>\n",
       "      <th>count</th>\n",
       "      <td>1024.000000</td>\n",
       "      <td>1024.000000</td>\n",
       "      <td>1024.000000</td>\n",
       "      <td>1.024000e+03</td>\n",
       "      <td>1024.000000</td>\n",
       "      <td>1024.000000</td>\n",
       "      <td>1.024000e+03</td>\n",
       "      <td>1024.000000</td>\n",
       "      <td>1024.000000</td>\n",
       "      <td>1024.000000</td>\n",
       "      <td>...</td>\n",
       "      <td>1.024000e+03</td>\n",
       "      <td>1.024000e+03</td>\n",
       "      <td>1024.000000</td>\n",
       "      <td>1.024000e+03</td>\n",
       "      <td>1.024000e+03</td>\n",
       "      <td>1024.000000</td>\n",
       "      <td>1.024000e+03</td>\n",
       "      <td>1024.000000</td>\n",
       "      <td>1.024000e+03</td>\n",
       "      <td>1024.000000</td>\n",
       "    </tr>\n",
       "    <tr>\n",
       "      <th>mean</th>\n",
       "      <td>-1.886822</td>\n",
       "      <td>-45.065258</td>\n",
       "      <td>-15.530408</td>\n",
       "      <td>5.891870e+181</td>\n",
       "      <td>-41.586482</td>\n",
       "      <td>52.334783</td>\n",
       "      <td>-1.050588e+276</td>\n",
       "      <td>187.619083</td>\n",
       "      <td>159.911848</td>\n",
       "      <td>38.197877</td>\n",
       "      <td>...</td>\n",
       "      <td>1.016579e+174</td>\n",
       "      <td>9.313489e+278</td>\n",
       "      <td>-320.986710</td>\n",
       "      <td>5.678231e+249</td>\n",
       "      <td>-2.705688e+215</td>\n",
       "      <td>-265.443340</td>\n",
       "      <td>2.809488e+134</td>\n",
       "      <td>-70.035112</td>\n",
       "      <td>1.870591e+193</td>\n",
       "      <td>39.382445</td>\n",
       "    </tr>\n",
       "    <tr>\n",
       "      <th>std</th>\n",
       "      <td>4.775592</td>\n",
       "      <td>39.849572</td>\n",
       "      <td>14.747077</td>\n",
       "      <td>inf</td>\n",
       "      <td>33.049992</td>\n",
       "      <td>41.577014</td>\n",
       "      <td>inf</td>\n",
       "      <td>157.881132</td>\n",
       "      <td>127.674214</td>\n",
       "      <td>32.154357</td>\n",
       "      <td>...</td>\n",
       "      <td>inf</td>\n",
       "      <td>inf</td>\n",
       "      <td>265.277356</td>\n",
       "      <td>inf</td>\n",
       "      <td>inf</td>\n",
       "      <td>214.451663</td>\n",
       "      <td>2.478810e+135</td>\n",
       "      <td>54.034735</td>\n",
       "      <td>inf</td>\n",
       "      <td>32.936486</td>\n",
       "    </tr>\n",
       "    <tr>\n",
       "      <th>min</th>\n",
       "      <td>-13.630724</td>\n",
       "      <td>-111.051460</td>\n",
       "      <td>-73.192177</td>\n",
       "      <td>-3.353320e+02</td>\n",
       "      <td>-107.001478</td>\n",
       "      <td>-2.857989</td>\n",
       "      <td>-6.723766e+277</td>\n",
       "      <td>-1.046395</td>\n",
       "      <td>-0.459910</td>\n",
       "      <td>-1.180720</td>\n",
       "      <td>...</td>\n",
       "      <td>-1.349531e+02</td>\n",
       "      <td>-4.918802e+02</td>\n",
       "      <td>-845.165050</td>\n",
       "      <td>5.166096e-01</td>\n",
       "      <td>-1.731640e+217</td>\n",
       "      <td>-707.021078</td>\n",
       "      <td>-3.300015e+02</td>\n",
       "      <td>-201.742886</td>\n",
       "      <td>4.706803e-01</td>\n",
       "      <td>-1.561945</td>\n",
       "    </tr>\n",
       "    <tr>\n",
       "      <th>25%</th>\n",
       "      <td>-4.768365</td>\n",
       "      <td>-88.390590</td>\n",
       "      <td>-21.386868</td>\n",
       "      <td>-2.042067e+02</td>\n",
       "      <td>-67.733752</td>\n",
       "      <td>8.261160</td>\n",
       "      <td>5.304311e+01</td>\n",
       "      <td>47.419049</td>\n",
       "      <td>44.934957</td>\n",
       "      <td>6.462306</td>\n",
       "      <td>...</td>\n",
       "      <td>-6.259690e+01</td>\n",
       "      <td>-3.485474e+02</td>\n",
       "      <td>-552.815262</td>\n",
       "      <td>7.222429e+01</td>\n",
       "      <td>2.017685e+01</td>\n",
       "      <td>-444.954383</td>\n",
       "      <td>-1.988609e+02</td>\n",
       "      <td>-105.291434</td>\n",
       "      <td>6.622351e+01</td>\n",
       "      <td>11.492950</td>\n",
       "    </tr>\n",
       "    <tr>\n",
       "      <th>50%</th>\n",
       "      <td>-1.693200</td>\n",
       "      <td>-34.247708</td>\n",
       "      <td>-11.513757</td>\n",
       "      <td>-8.963368e+01</td>\n",
       "      <td>-34.495205</td>\n",
       "      <td>56.970911</td>\n",
       "      <td>1.496706e+02</td>\n",
       "      <td>132.273829</td>\n",
       "      <td>142.086932</td>\n",
       "      <td>32.172527</td>\n",
       "      <td>...</td>\n",
       "      <td>-2.316477e+01</td>\n",
       "      <td>-1.615938e+02</td>\n",
       "      <td>-250.933413</td>\n",
       "      <td>2.091291e+02</td>\n",
       "      <td>7.047403e+01</td>\n",
       "      <td>-201.371978</td>\n",
       "      <td>-9.487529e+01</td>\n",
       "      <td>-60.461203</td>\n",
       "      <td>1.949718e+02</td>\n",
       "      <td>32.542309</td>\n",
       "    </tr>\n",
       "    <tr>\n",
       "      <th>75%</th>\n",
       "      <td>-0.050125</td>\n",
       "      <td>-7.312373</td>\n",
       "      <td>-4.780759</td>\n",
       "      <td>-2.915649e+01</td>\n",
       "      <td>-11.895370</td>\n",
       "      <td>96.375070</td>\n",
       "      <td>3.344684e+02</td>\n",
       "      <td>322.340516</td>\n",
       "      <td>239.823866</td>\n",
       "      <td>67.298889</td>\n",
       "      <td>...</td>\n",
       "      <td>-6.719158e+00</td>\n",
       "      <td>-2.428395e+01</td>\n",
       "      <td>-78.408548</td>\n",
       "      <td>4.374123e+02</td>\n",
       "      <td>1.601115e+02</td>\n",
       "      <td>-71.885430</td>\n",
       "      <td>-4.283849e+01</td>\n",
       "      <td>-23.533563</td>\n",
       "      <td>4.384380e+02</td>\n",
       "      <td>56.581261</td>\n",
       "    </tr>\n",
       "    <tr>\n",
       "      <th>max</th>\n",
       "      <td>14.292617</td>\n",
       "      <td>3.909772</td>\n",
       "      <td>0.605098</td>\n",
       "      <td>3.770797e+183</td>\n",
       "      <td>1.029055</td>\n",
       "      <td>106.180171</td>\n",
       "      <td>2.441720e+232</td>\n",
       "      <td>512.449419</td>\n",
       "      <td>462.833284</td>\n",
       "      <td>105.427670</td>\n",
       "      <td>...</td>\n",
       "      <td>8.007516e+175</td>\n",
       "      <td>5.960633e+280</td>\n",
       "      <td>-0.438496</td>\n",
       "      <td>4.472699e+251</td>\n",
       "      <td>2.625407e+02</td>\n",
       "      <td>-0.018322</td>\n",
       "      <td>2.213012e+136</td>\n",
       "      <td>-0.019338</td>\n",
       "      <td>1.473450e+195</td>\n",
       "      <td>128.386833</td>\n",
       "    </tr>\n",
       "  </tbody>\n",
       "</table>\n",
       "<p>8 rows × 300 columns</p>\n",
       "</div>"
      ],
      "text/plain": [
       "               0            1            2              3            4    \\\n",
       "count  1024.000000  1024.000000  1024.000000   1.024000e+03  1024.000000   \n",
       "mean     -1.886822   -45.065258   -15.530408  5.891870e+181   -41.586482   \n",
       "std       4.775592    39.849572    14.747077            inf    33.049992   \n",
       "min     -13.630724  -111.051460   -73.192177  -3.353320e+02  -107.001478   \n",
       "25%      -4.768365   -88.390590   -21.386868  -2.042067e+02   -67.733752   \n",
       "50%      -1.693200   -34.247708   -11.513757  -8.963368e+01   -34.495205   \n",
       "75%      -0.050125    -7.312373    -4.780759  -2.915649e+01   -11.895370   \n",
       "max      14.292617     3.909772     0.605098  3.770797e+183     1.029055   \n",
       "\n",
       "               5              6            7            8            9    ...  \\\n",
       "count  1024.000000   1.024000e+03  1024.000000  1024.000000  1024.000000  ...   \n",
       "mean     52.334783 -1.050588e+276   187.619083   159.911848    38.197877  ...   \n",
       "std      41.577014            inf   157.881132   127.674214    32.154357  ...   \n",
       "min      -2.857989 -6.723766e+277    -1.046395    -0.459910    -1.180720  ...   \n",
       "25%       8.261160   5.304311e+01    47.419049    44.934957     6.462306  ...   \n",
       "50%      56.970911   1.496706e+02   132.273829   142.086932    32.172527  ...   \n",
       "75%      96.375070   3.344684e+02   322.340516   239.823866    67.298889  ...   \n",
       "max     106.180171  2.441720e+232   512.449419   462.833284   105.427670  ...   \n",
       "\n",
       "                 290            291          292            293  \\\n",
       "count   1.024000e+03   1.024000e+03  1024.000000   1.024000e+03   \n",
       "mean   1.016579e+174  9.313489e+278  -320.986710  5.678231e+249   \n",
       "std              inf            inf   265.277356            inf   \n",
       "min    -1.349531e+02  -4.918802e+02  -845.165050   5.166096e-01   \n",
       "25%    -6.259690e+01  -3.485474e+02  -552.815262   7.222429e+01   \n",
       "50%    -2.316477e+01  -1.615938e+02  -250.933413   2.091291e+02   \n",
       "75%    -6.719158e+00  -2.428395e+01   -78.408548   4.374123e+02   \n",
       "max    8.007516e+175  5.960633e+280    -0.438496  4.472699e+251   \n",
       "\n",
       "                 294          295            296          297            298  \\\n",
       "count   1.024000e+03  1024.000000   1.024000e+03  1024.000000   1.024000e+03   \n",
       "mean  -2.705688e+215  -265.443340  2.809488e+134   -70.035112  1.870591e+193   \n",
       "std              inf   214.451663  2.478810e+135    54.034735            inf   \n",
       "min   -1.731640e+217  -707.021078  -3.300015e+02  -201.742886   4.706803e-01   \n",
       "25%     2.017685e+01  -444.954383  -1.988609e+02  -105.291434   6.622351e+01   \n",
       "50%     7.047403e+01  -201.371978  -9.487529e+01   -60.461203   1.949718e+02   \n",
       "75%     1.601115e+02   -71.885430  -4.283849e+01   -23.533563   4.384380e+02   \n",
       "max     2.625407e+02    -0.018322  2.213012e+136    -0.019338  1.473450e+195   \n",
       "\n",
       "               299  \n",
       "count  1024.000000  \n",
       "mean     39.382445  \n",
       "std      32.936486  \n",
       "min      -1.561945  \n",
       "25%      11.492950  \n",
       "50%      32.542309  \n",
       "75%      56.581261  \n",
       "max     128.386833  \n",
       "\n",
       "[8 rows x 300 columns]"
      ]
     },
     "execution_count": 44,
     "metadata": {},
     "output_type": "execute_result"
    }
   ],
   "source": [
    "copy.describe()"
   ]
  },
  {
   "cell_type": "code",
   "execution_count": 45,
   "id": "fce1519e",
   "metadata": {},
   "outputs": [],
   "source": [
    "from sklearn.preprocessing import StandardScaler"
   ]
  },
  {
   "cell_type": "code",
   "execution_count": 46,
   "id": "7e01c847",
   "metadata": {},
   "outputs": [
    {
     "name": "stderr",
     "output_type": "stream",
     "text": [
      "/Users/liyutai/opt/anaconda3/lib/python3.8/site-packages/numpy/lib/nanfunctions.py:1550: RuntimeWarning: overflow encountered in multiply\n",
      "  sqr = np.multiply(arr, arr, out=arr)\n"
     ]
    }
   ],
   "source": [
    "scaler = StandardScaler().fit(all_new_vec)\n",
    "all_vec_std = scaler.transform(all_new_vec)"
   ]
  },
  {
   "cell_type": "code",
   "execution_count": 47,
   "id": "41da717e",
   "metadata": {},
   "outputs": [],
   "source": [
    "vec_df = pd.DataFrame(all_vec_std)"
   ]
  },
  {
   "cell_type": "code",
   "execution_count": 48,
   "id": "f7c30a80",
   "metadata": {},
   "outputs": [
    {
     "data": {
      "text/html": [
       "<div>\n",
       "<style scoped>\n",
       "    .dataframe tbody tr th:only-of-type {\n",
       "        vertical-align: middle;\n",
       "    }\n",
       "\n",
       "    .dataframe tbody tr th {\n",
       "        vertical-align: top;\n",
       "    }\n",
       "\n",
       "    .dataframe thead th {\n",
       "        text-align: right;\n",
       "    }\n",
       "</style>\n",
       "<table border=\"1\" class=\"dataframe\">\n",
       "  <thead>\n",
       "    <tr style=\"text-align: right;\">\n",
       "      <th></th>\n",
       "      <th>0</th>\n",
       "      <th>1</th>\n",
       "      <th>2</th>\n",
       "      <th>3</th>\n",
       "      <th>4</th>\n",
       "      <th>5</th>\n",
       "      <th>6</th>\n",
       "      <th>7</th>\n",
       "      <th>8</th>\n",
       "      <th>9</th>\n",
       "      <th>...</th>\n",
       "      <th>290</th>\n",
       "      <th>291</th>\n",
       "      <th>292</th>\n",
       "      <th>293</th>\n",
       "      <th>294</th>\n",
       "      <th>295</th>\n",
       "      <th>296</th>\n",
       "      <th>297</th>\n",
       "      <th>298</th>\n",
       "      <th>299</th>\n",
       "    </tr>\n",
       "  </thead>\n",
       "  <tbody>\n",
       "    <tr>\n",
       "      <th>0</th>\n",
       "      <td>0.313579</td>\n",
       "      <td>1.142002</td>\n",
       "      <td>0.997204</td>\n",
       "      <td>-0.0</td>\n",
       "      <td>1.279352</td>\n",
       "      <td>-1.259358</td>\n",
       "      <td>0.0</td>\n",
       "      <td>-1.190464</td>\n",
       "      <td>-1.242785</td>\n",
       "      <td>-1.164499</td>\n",
       "      <td>...</td>\n",
       "      <td>-0.0</td>\n",
       "      <td>-0.0</td>\n",
       "      <td>1.206174</td>\n",
       "      <td>-0.0</td>\n",
       "      <td>0.0</td>\n",
       "      <td>1.232786</td>\n",
       "      <td>-0.113396</td>\n",
       "      <td>1.290825</td>\n",
       "      <td>-0.0</td>\n",
       "      <td>-1.203721</td>\n",
       "    </tr>\n",
       "    <tr>\n",
       "      <th>1</th>\n",
       "      <td>0.395635</td>\n",
       "      <td>1.130730</td>\n",
       "      <td>1.015973</td>\n",
       "      <td>-0.0</td>\n",
       "      <td>1.282755</td>\n",
       "      <td>-1.259358</td>\n",
       "      <td>0.0</td>\n",
       "      <td>-1.187065</td>\n",
       "      <td>-1.226784</td>\n",
       "      <td>-1.155154</td>\n",
       "      <td>...</td>\n",
       "      <td>-0.0</td>\n",
       "      <td>-0.0</td>\n",
       "      <td>1.202186</td>\n",
       "      <td>-0.0</td>\n",
       "      <td>0.0</td>\n",
       "      <td>1.228334</td>\n",
       "      <td>-0.113396</td>\n",
       "      <td>1.276156</td>\n",
       "      <td>-0.0</td>\n",
       "      <td>-1.215625</td>\n",
       "    </tr>\n",
       "    <tr>\n",
       "      <th>2</th>\n",
       "      <td>0.398611</td>\n",
       "      <td>1.147068</td>\n",
       "      <td>1.034005</td>\n",
       "      <td>-0.0</td>\n",
       "      <td>1.267705</td>\n",
       "      <td>-1.255766</td>\n",
       "      <td>0.0</td>\n",
       "      <td>-1.191241</td>\n",
       "      <td>-1.242771</td>\n",
       "      <td>-1.171430</td>\n",
       "      <td>...</td>\n",
       "      <td>0.0</td>\n",
       "      <td>-0.0</td>\n",
       "      <td>1.206979</td>\n",
       "      <td>0.0</td>\n",
       "      <td>0.0</td>\n",
       "      <td>1.233334</td>\n",
       "      <td>8.818686</td>\n",
       "      <td>1.293686</td>\n",
       "      <td>0.0</td>\n",
       "      <td>-1.197218</td>\n",
       "    </tr>\n",
       "    <tr>\n",
       "      <th>3</th>\n",
       "      <td>0.360289</td>\n",
       "      <td>1.134026</td>\n",
       "      <td>1.030335</td>\n",
       "      <td>-0.0</td>\n",
       "      <td>1.267832</td>\n",
       "      <td>-1.247527</td>\n",
       "      <td>0.0</td>\n",
       "      <td>-1.189225</td>\n",
       "      <td>-1.238632</td>\n",
       "      <td>-1.160290</td>\n",
       "      <td>...</td>\n",
       "      <td>0.0</td>\n",
       "      <td>-0.0</td>\n",
       "      <td>1.201198</td>\n",
       "      <td>0.0</td>\n",
       "      <td>0.0</td>\n",
       "      <td>1.229981</td>\n",
       "      <td>8.818686</td>\n",
       "      <td>1.278009</td>\n",
       "      <td>0.0</td>\n",
       "      <td>-1.200739</td>\n",
       "    </tr>\n",
       "    <tr>\n",
       "      <th>4</th>\n",
       "      <td>0.350665</td>\n",
       "      <td>1.137801</td>\n",
       "      <td>0.994697</td>\n",
       "      <td>-0.0</td>\n",
       "      <td>1.260286</td>\n",
       "      <td>-1.235608</td>\n",
       "      <td>0.0</td>\n",
       "      <td>-1.185061</td>\n",
       "      <td>-1.235250</td>\n",
       "      <td>-1.145722</td>\n",
       "      <td>...</td>\n",
       "      <td>0.0</td>\n",
       "      <td>-0.0</td>\n",
       "      <td>1.199403</td>\n",
       "      <td>0.0</td>\n",
       "      <td>0.0</td>\n",
       "      <td>1.225965</td>\n",
       "      <td>8.818686</td>\n",
       "      <td>1.278464</td>\n",
       "      <td>0.0</td>\n",
       "      <td>-1.213313</td>\n",
       "    </tr>\n",
       "  </tbody>\n",
       "</table>\n",
       "<p>5 rows × 300 columns</p>\n",
       "</div>"
      ],
      "text/plain": [
       "        0         1         2    3         4         5    6         7    \\\n",
       "0  0.313579  1.142002  0.997204 -0.0  1.279352 -1.259358  0.0 -1.190464   \n",
       "1  0.395635  1.130730  1.015973 -0.0  1.282755 -1.259358  0.0 -1.187065   \n",
       "2  0.398611  1.147068  1.034005 -0.0  1.267705 -1.255766  0.0 -1.191241   \n",
       "3  0.360289  1.134026  1.030335 -0.0  1.267832 -1.247527  0.0 -1.189225   \n",
       "4  0.350665  1.137801  0.994697 -0.0  1.260286 -1.235608  0.0 -1.185061   \n",
       "\n",
       "        8         9    ...  290  291       292  293  294       295       296  \\\n",
       "0 -1.242785 -1.164499  ... -0.0 -0.0  1.206174 -0.0  0.0  1.232786 -0.113396   \n",
       "1 -1.226784 -1.155154  ... -0.0 -0.0  1.202186 -0.0  0.0  1.228334 -0.113396   \n",
       "2 -1.242771 -1.171430  ...  0.0 -0.0  1.206979  0.0  0.0  1.233334  8.818686   \n",
       "3 -1.238632 -1.160290  ...  0.0 -0.0  1.201198  0.0  0.0  1.229981  8.818686   \n",
       "4 -1.235250 -1.145722  ...  0.0 -0.0  1.199403  0.0  0.0  1.225965  8.818686   \n",
       "\n",
       "        297  298       299  \n",
       "0  1.290825 -0.0 -1.203721  \n",
       "1  1.276156 -0.0 -1.215625  \n",
       "2  1.293686  0.0 -1.197218  \n",
       "3  1.278009  0.0 -1.200739  \n",
       "4  1.278464  0.0 -1.213313  \n",
       "\n",
       "[5 rows x 300 columns]"
      ]
     },
     "execution_count": 48,
     "metadata": {},
     "output_type": "execute_result"
    }
   ],
   "source": [
    "vec_df.head()"
   ]
  },
  {
   "cell_type": "code",
   "execution_count": 49,
   "id": "944c742c",
   "metadata": {},
   "outputs": [
    {
     "data": {
      "text/html": [
       "<div>\n",
       "<style scoped>\n",
       "    .dataframe tbody tr th:only-of-type {\n",
       "        vertical-align: middle;\n",
       "    }\n",
       "\n",
       "    .dataframe tbody tr th {\n",
       "        vertical-align: top;\n",
       "    }\n",
       "\n",
       "    .dataframe thead th {\n",
       "        text-align: right;\n",
       "    }\n",
       "</style>\n",
       "<table border=\"1\" class=\"dataframe\">\n",
       "  <thead>\n",
       "    <tr style=\"text-align: right;\">\n",
       "      <th></th>\n",
       "      <th>0</th>\n",
       "      <th>1</th>\n",
       "      <th>2</th>\n",
       "      <th>3</th>\n",
       "      <th>4</th>\n",
       "      <th>5</th>\n",
       "      <th>6</th>\n",
       "      <th>7</th>\n",
       "      <th>8</th>\n",
       "      <th>9</th>\n",
       "      <th>...</th>\n",
       "      <th>290</th>\n",
       "      <th>291</th>\n",
       "      <th>292</th>\n",
       "      <th>293</th>\n",
       "      <th>294</th>\n",
       "      <th>295</th>\n",
       "      <th>296</th>\n",
       "      <th>297</th>\n",
       "      <th>298</th>\n",
       "      <th>299</th>\n",
       "    </tr>\n",
       "  </thead>\n",
       "  <tbody>\n",
       "    <tr>\n",
       "      <th>count</th>\n",
       "      <td>1.024000e+03</td>\n",
       "      <td>1.024000e+03</td>\n",
       "      <td>1.024000e+03</td>\n",
       "      <td>1024.0</td>\n",
       "      <td>1.024000e+03</td>\n",
       "      <td>1.024000e+03</td>\n",
       "      <td>1024.0</td>\n",
       "      <td>1.024000e+03</td>\n",
       "      <td>1.024000e+03</td>\n",
       "      <td>1.024000e+03</td>\n",
       "      <td>...</td>\n",
       "      <td>1024.0</td>\n",
       "      <td>1024.0</td>\n",
       "      <td>1.024000e+03</td>\n",
       "      <td>1024.0</td>\n",
       "      <td>1024.0</td>\n",
       "      <td>1.024000e+03</td>\n",
       "      <td>1.024000e+03</td>\n",
       "      <td>1.024000e+03</td>\n",
       "      <td>1024.0</td>\n",
       "      <td>1.024000e+03</td>\n",
       "    </tr>\n",
       "    <tr>\n",
       "      <th>mean</th>\n",
       "      <td>2.406929e-17</td>\n",
       "      <td>4.604823e-15</td>\n",
       "      <td>1.279359e-17</td>\n",
       "      <td>0.0</td>\n",
       "      <td>5.147792e-16</td>\n",
       "      <td>-1.225148e-16</td>\n",
       "      <td>0.0</td>\n",
       "      <td>2.969847e-15</td>\n",
       "      <td>-1.660998e-16</td>\n",
       "      <td>2.857957e-16</td>\n",
       "      <td>...</td>\n",
       "      <td>0.0</td>\n",
       "      <td>0.0</td>\n",
       "      <td>-2.046974e-16</td>\n",
       "      <td>0.0</td>\n",
       "      <td>0.0</td>\n",
       "      <td>2.710505e-16</td>\n",
       "      <td>1.662895e-15</td>\n",
       "      <td>-2.658464e-15</td>\n",
       "      <td>0.0</td>\n",
       "      <td>9.280771e-17</td>\n",
       "    </tr>\n",
       "    <tr>\n",
       "      <th>std</th>\n",
       "      <td>1.000489e+00</td>\n",
       "      <td>1.000489e+00</td>\n",
       "      <td>1.000489e+00</td>\n",
       "      <td>0.0</td>\n",
       "      <td>1.000489e+00</td>\n",
       "      <td>1.000489e+00</td>\n",
       "      <td>0.0</td>\n",
       "      <td>1.000489e+00</td>\n",
       "      <td>1.000489e+00</td>\n",
       "      <td>1.000489e+00</td>\n",
       "      <td>...</td>\n",
       "      <td>0.0</td>\n",
       "      <td>0.0</td>\n",
       "      <td>1.000489e+00</td>\n",
       "      <td>0.0</td>\n",
       "      <td>0.0</td>\n",
       "      <td>1.000489e+00</td>\n",
       "      <td>1.000489e+00</td>\n",
       "      <td>1.000489e+00</td>\n",
       "      <td>0.0</td>\n",
       "      <td>1.000489e+00</td>\n",
       "    </tr>\n",
       "    <tr>\n",
       "      <th>min</th>\n",
       "      <td>-2.460353e+00</td>\n",
       "      <td>-1.656691e+00</td>\n",
       "      <td>-3.911958e+00</td>\n",
       "      <td>-0.0</td>\n",
       "      <td>-1.980241e+00</td>\n",
       "      <td>-1.328131e+00</td>\n",
       "      <td>0.0</td>\n",
       "      <td>-1.195568e+00</td>\n",
       "      <td>-1.256715e+00</td>\n",
       "      <td>-1.225272e+00</td>\n",
       "      <td>...</td>\n",
       "      <td>-0.0</td>\n",
       "      <td>-0.0</td>\n",
       "      <td>-1.976929e+00</td>\n",
       "      <td>-0.0</td>\n",
       "      <td>0.0</td>\n",
       "      <td>-2.060108e+00</td>\n",
       "      <td>-1.133956e-01</td>\n",
       "      <td>-2.438656e+00</td>\n",
       "      <td>-0.0</td>\n",
       "      <td>-1.243739e+00</td>\n",
       "    </tr>\n",
       "    <tr>\n",
       "      <th>25%</th>\n",
       "      <td>-6.036845e-01</td>\n",
       "      <td>-1.087753e+00</td>\n",
       "      <td>-3.973209e-01</td>\n",
       "      <td>-0.0</td>\n",
       "      <td>-7.915296e-01</td>\n",
       "      <td>-1.060566e+00</td>\n",
       "      <td>0.0</td>\n",
       "      <td>-8.884440e-01</td>\n",
       "      <td>-9.009891e-01</td>\n",
       "      <td>-9.874581e-01</td>\n",
       "      <td>...</td>\n",
       "      <td>-0.0</td>\n",
       "      <td>-0.0</td>\n",
       "      <td>-8.743371e-01</td>\n",
       "      <td>-0.0</td>\n",
       "      <td>0.0</td>\n",
       "      <td>-8.374790e-01</td>\n",
       "      <td>-1.133956e-01</td>\n",
       "      <td>-6.527940e-01</td>\n",
       "      <td>-0.0</td>\n",
       "      <td>-8.471797e-01</td>\n",
       "    </tr>\n",
       "    <tr>\n",
       "      <th>50%</th>\n",
       "      <td>4.056396e-02</td>\n",
       "      <td>2.715923e-01</td>\n",
       "      <td>2.725024e-01</td>\n",
       "      <td>-0.0</td>\n",
       "      <td>2.146670e-01</td>\n",
       "      <td>1.115615e-01</td>\n",
       "      <td>0.0</td>\n",
       "      <td>-3.507214e-01</td>\n",
       "      <td>-1.396807e-01</td>\n",
       "      <td>-1.874799e-01</td>\n",
       "      <td>...</td>\n",
       "      <td>-0.0</td>\n",
       "      <td>-0.0</td>\n",
       "      <td>2.642047e-01</td>\n",
       "      <td>-0.0</td>\n",
       "      <td>0.0</td>\n",
       "      <td>2.989143e-01</td>\n",
       "      <td>-1.133956e-01</td>\n",
       "      <td>1.772672e-01</td>\n",
       "      <td>-0.0</td>\n",
       "      <td>-2.077780e-01</td>\n",
       "    </tr>\n",
       "    <tr>\n",
       "      <th>75%</th>\n",
       "      <td>3.847890e-01</td>\n",
       "      <td>9.478479e-01</td>\n",
       "      <td>7.292904e-01</td>\n",
       "      <td>0.0</td>\n",
       "      <td>8.988087e-01</td>\n",
       "      <td>1.059764e+00</td>\n",
       "      <td>0.0</td>\n",
       "      <td>8.537262e-01</td>\n",
       "      <td>6.262115e-01</td>\n",
       "      <td>9.054833e-01</td>\n",
       "      <td>...</td>\n",
       "      <td>0.0</td>\n",
       "      <td>0.0</td>\n",
       "      <td>9.148790e-01</td>\n",
       "      <td>0.0</td>\n",
       "      <td>0.0</td>\n",
       "      <td>9.030123e-01</td>\n",
       "      <td>-1.133956e-01</td>\n",
       "      <td>8.610067e-01</td>\n",
       "      <td>0.0</td>\n",
       "      <td>5.224364e-01</td>\n",
       "    </tr>\n",
       "    <tr>\n",
       "      <th>max</th>\n",
       "      <td>3.389600e+00</td>\n",
       "      <td>1.229598e+00</td>\n",
       "      <td>1.094684e+00</td>\n",
       "      <td>-0.0</td>\n",
       "      <td>1.290057e+00</td>\n",
       "      <td>1.295709e+00</td>\n",
       "      <td>0.0</td>\n",
       "      <td>2.058441e+00</td>\n",
       "      <td>2.373772e+00</td>\n",
       "      <td>2.091867e+00</td>\n",
       "      <td>...</td>\n",
       "      <td>-0.0</td>\n",
       "      <td>-0.0</td>\n",
       "      <td>1.208942e+00</td>\n",
       "      <td>-0.0</td>\n",
       "      <td>0.0</td>\n",
       "      <td>1.238296e+00</td>\n",
       "      <td>8.818686e+00</td>\n",
       "      <td>1.296388e+00</td>\n",
       "      <td>-0.0</td>\n",
       "      <td>2.703624e+00</td>\n",
       "    </tr>\n",
       "  </tbody>\n",
       "</table>\n",
       "<p>8 rows × 300 columns</p>\n",
       "</div>"
      ],
      "text/plain": [
       "                0             1             2       3             4    \\\n",
       "count  1.024000e+03  1.024000e+03  1.024000e+03  1024.0  1.024000e+03   \n",
       "mean   2.406929e-17  4.604823e-15  1.279359e-17     0.0  5.147792e-16   \n",
       "std    1.000489e+00  1.000489e+00  1.000489e+00     0.0  1.000489e+00   \n",
       "min   -2.460353e+00 -1.656691e+00 -3.911958e+00    -0.0 -1.980241e+00   \n",
       "25%   -6.036845e-01 -1.087753e+00 -3.973209e-01    -0.0 -7.915296e-01   \n",
       "50%    4.056396e-02  2.715923e-01  2.725024e-01    -0.0  2.146670e-01   \n",
       "75%    3.847890e-01  9.478479e-01  7.292904e-01     0.0  8.988087e-01   \n",
       "max    3.389600e+00  1.229598e+00  1.094684e+00    -0.0  1.290057e+00   \n",
       "\n",
       "                5       6             7             8             9    ...  \\\n",
       "count  1.024000e+03  1024.0  1.024000e+03  1.024000e+03  1.024000e+03  ...   \n",
       "mean  -1.225148e-16     0.0  2.969847e-15 -1.660998e-16  2.857957e-16  ...   \n",
       "std    1.000489e+00     0.0  1.000489e+00  1.000489e+00  1.000489e+00  ...   \n",
       "min   -1.328131e+00     0.0 -1.195568e+00 -1.256715e+00 -1.225272e+00  ...   \n",
       "25%   -1.060566e+00     0.0 -8.884440e-01 -9.009891e-01 -9.874581e-01  ...   \n",
       "50%    1.115615e-01     0.0 -3.507214e-01 -1.396807e-01 -1.874799e-01  ...   \n",
       "75%    1.059764e+00     0.0  8.537262e-01  6.262115e-01  9.054833e-01  ...   \n",
       "max    1.295709e+00     0.0  2.058441e+00  2.373772e+00  2.091867e+00  ...   \n",
       "\n",
       "          290     291           292     293     294           295  \\\n",
       "count  1024.0  1024.0  1.024000e+03  1024.0  1024.0  1.024000e+03   \n",
       "mean      0.0     0.0 -2.046974e-16     0.0     0.0  2.710505e-16   \n",
       "std       0.0     0.0  1.000489e+00     0.0     0.0  1.000489e+00   \n",
       "min      -0.0    -0.0 -1.976929e+00    -0.0     0.0 -2.060108e+00   \n",
       "25%      -0.0    -0.0 -8.743371e-01    -0.0     0.0 -8.374790e-01   \n",
       "50%      -0.0    -0.0  2.642047e-01    -0.0     0.0  2.989143e-01   \n",
       "75%       0.0     0.0  9.148790e-01     0.0     0.0  9.030123e-01   \n",
       "max      -0.0    -0.0  1.208942e+00    -0.0     0.0  1.238296e+00   \n",
       "\n",
       "                296           297     298           299  \n",
       "count  1.024000e+03  1.024000e+03  1024.0  1.024000e+03  \n",
       "mean   1.662895e-15 -2.658464e-15     0.0  9.280771e-17  \n",
       "std    1.000489e+00  1.000489e+00     0.0  1.000489e+00  \n",
       "min   -1.133956e-01 -2.438656e+00    -0.0 -1.243739e+00  \n",
       "25%   -1.133956e-01 -6.527940e-01    -0.0 -8.471797e-01  \n",
       "50%   -1.133956e-01  1.772672e-01    -0.0 -2.077780e-01  \n",
       "75%   -1.133956e-01  8.610067e-01     0.0  5.224364e-01  \n",
       "max    8.818686e+00  1.296388e+00    -0.0  2.703624e+00  \n",
       "\n",
       "[8 rows x 300 columns]"
      ]
     },
     "execution_count": 49,
     "metadata": {},
     "output_type": "execute_result"
    }
   ],
   "source": [
    "vec_df.describe()"
   ]
  },
  {
   "cell_type": "code",
   "execution_count": 50,
   "id": "9ab35dad",
   "metadata": {},
   "outputs": [
    {
     "data": {
      "text/html": [
       "<div>\n",
       "<style scoped>\n",
       "    .dataframe tbody tr th:only-of-type {\n",
       "        vertical-align: middle;\n",
       "    }\n",
       "\n",
       "    .dataframe tbody tr th {\n",
       "        vertical-align: top;\n",
       "    }\n",
       "\n",
       "    .dataframe thead th {\n",
       "        text-align: right;\n",
       "    }\n",
       "</style>\n",
       "<table border=\"1\" class=\"dataframe\">\n",
       "  <thead>\n",
       "    <tr style=\"text-align: right;\">\n",
       "      <th></th>\n",
       "      <th>Natural</th>\n",
       "      <th>0</th>\n",
       "      <th>1</th>\n",
       "      <th>2</th>\n",
       "      <th>3</th>\n",
       "      <th>4</th>\n",
       "      <th>5</th>\n",
       "      <th>6</th>\n",
       "      <th>7</th>\n",
       "      <th>8</th>\n",
       "      <th>...</th>\n",
       "      <th>290</th>\n",
       "      <th>291</th>\n",
       "      <th>292</th>\n",
       "      <th>293</th>\n",
       "      <th>294</th>\n",
       "      <th>295</th>\n",
       "      <th>296</th>\n",
       "      <th>297</th>\n",
       "      <th>298</th>\n",
       "      <th>299</th>\n",
       "    </tr>\n",
       "  </thead>\n",
       "  <tbody>\n",
       "    <tr>\n",
       "      <th>0</th>\n",
       "      <td>2.17</td>\n",
       "      <td>0.313579</td>\n",
       "      <td>1.142002</td>\n",
       "      <td>0.997204</td>\n",
       "      <td>-0.0</td>\n",
       "      <td>1.279352</td>\n",
       "      <td>-1.259358</td>\n",
       "      <td>0.0</td>\n",
       "      <td>-1.190464</td>\n",
       "      <td>-1.242785</td>\n",
       "      <td>...</td>\n",
       "      <td>-0.0</td>\n",
       "      <td>-0.0</td>\n",
       "      <td>1.206174</td>\n",
       "      <td>-0.0</td>\n",
       "      <td>0.0</td>\n",
       "      <td>1.232786</td>\n",
       "      <td>-0.113396</td>\n",
       "      <td>1.290825</td>\n",
       "      <td>-0.0</td>\n",
       "      <td>-1.203721</td>\n",
       "    </tr>\n",
       "    <tr>\n",
       "      <th>1</th>\n",
       "      <td>2.00</td>\n",
       "      <td>0.395635</td>\n",
       "      <td>1.130730</td>\n",
       "      <td>1.015973</td>\n",
       "      <td>-0.0</td>\n",
       "      <td>1.282755</td>\n",
       "      <td>-1.259358</td>\n",
       "      <td>0.0</td>\n",
       "      <td>-1.187065</td>\n",
       "      <td>-1.226784</td>\n",
       "      <td>...</td>\n",
       "      <td>-0.0</td>\n",
       "      <td>-0.0</td>\n",
       "      <td>1.202186</td>\n",
       "      <td>-0.0</td>\n",
       "      <td>0.0</td>\n",
       "      <td>1.228334</td>\n",
       "      <td>-0.113396</td>\n",
       "      <td>1.276156</td>\n",
       "      <td>-0.0</td>\n",
       "      <td>-1.215625</td>\n",
       "    </tr>\n",
       "    <tr>\n",
       "      <th>2</th>\n",
       "      <td>2.04</td>\n",
       "      <td>0.398611</td>\n",
       "      <td>1.147068</td>\n",
       "      <td>1.034005</td>\n",
       "      <td>-0.0</td>\n",
       "      <td>1.267705</td>\n",
       "      <td>-1.255766</td>\n",
       "      <td>0.0</td>\n",
       "      <td>-1.191241</td>\n",
       "      <td>-1.242771</td>\n",
       "      <td>...</td>\n",
       "      <td>0.0</td>\n",
       "      <td>-0.0</td>\n",
       "      <td>1.206979</td>\n",
       "      <td>0.0</td>\n",
       "      <td>0.0</td>\n",
       "      <td>1.233334</td>\n",
       "      <td>8.818686</td>\n",
       "      <td>1.293686</td>\n",
       "      <td>0.0</td>\n",
       "      <td>-1.197218</td>\n",
       "    </tr>\n",
       "    <tr>\n",
       "      <th>3</th>\n",
       "      <td>1.16</td>\n",
       "      <td>0.360289</td>\n",
       "      <td>1.134026</td>\n",
       "      <td>1.030335</td>\n",
       "      <td>-0.0</td>\n",
       "      <td>1.267832</td>\n",
       "      <td>-1.247527</td>\n",
       "      <td>0.0</td>\n",
       "      <td>-1.189225</td>\n",
       "      <td>-1.238632</td>\n",
       "      <td>...</td>\n",
       "      <td>0.0</td>\n",
       "      <td>-0.0</td>\n",
       "      <td>1.201198</td>\n",
       "      <td>0.0</td>\n",
       "      <td>0.0</td>\n",
       "      <td>1.229981</td>\n",
       "      <td>8.818686</td>\n",
       "      <td>1.278009</td>\n",
       "      <td>0.0</td>\n",
       "      <td>-1.200739</td>\n",
       "    </tr>\n",
       "    <tr>\n",
       "      <th>4</th>\n",
       "      <td>1.85</td>\n",
       "      <td>0.350665</td>\n",
       "      <td>1.137801</td>\n",
       "      <td>0.994697</td>\n",
       "      <td>-0.0</td>\n",
       "      <td>1.260286</td>\n",
       "      <td>-1.235608</td>\n",
       "      <td>0.0</td>\n",
       "      <td>-1.185061</td>\n",
       "      <td>-1.235250</td>\n",
       "      <td>...</td>\n",
       "      <td>0.0</td>\n",
       "      <td>-0.0</td>\n",
       "      <td>1.199403</td>\n",
       "      <td>0.0</td>\n",
       "      <td>0.0</td>\n",
       "      <td>1.225965</td>\n",
       "      <td>8.818686</td>\n",
       "      <td>1.278464</td>\n",
       "      <td>0.0</td>\n",
       "      <td>-1.213313</td>\n",
       "    </tr>\n",
       "  </tbody>\n",
       "</table>\n",
       "<p>5 rows × 301 columns</p>\n",
       "</div>"
      ],
      "text/plain": [
       "   Natural         0         1         2    3         4         5    6  \\\n",
       "0     2.17  0.313579  1.142002  0.997204 -0.0  1.279352 -1.259358  0.0   \n",
       "1     2.00  0.395635  1.130730  1.015973 -0.0  1.282755 -1.259358  0.0   \n",
       "2     2.04  0.398611  1.147068  1.034005 -0.0  1.267705 -1.255766  0.0   \n",
       "3     1.16  0.360289  1.134026  1.030335 -0.0  1.267832 -1.247527  0.0   \n",
       "4     1.85  0.350665  1.137801  0.994697 -0.0  1.260286 -1.235608  0.0   \n",
       "\n",
       "          7         8  ...  290  291       292  293  294       295       296  \\\n",
       "0 -1.190464 -1.242785  ... -0.0 -0.0  1.206174 -0.0  0.0  1.232786 -0.113396   \n",
       "1 -1.187065 -1.226784  ... -0.0 -0.0  1.202186 -0.0  0.0  1.228334 -0.113396   \n",
       "2 -1.191241 -1.242771  ...  0.0 -0.0  1.206979  0.0  0.0  1.233334  8.818686   \n",
       "3 -1.189225 -1.238632  ...  0.0 -0.0  1.201198  0.0  0.0  1.229981  8.818686   \n",
       "4 -1.185061 -1.235250  ...  0.0 -0.0  1.199403  0.0  0.0  1.225965  8.818686   \n",
       "\n",
       "        297  298       299  \n",
       "0  1.290825 -0.0 -1.203721  \n",
       "1  1.276156 -0.0 -1.215625  \n",
       "2  1.293686  0.0 -1.197218  \n",
       "3  1.278009  0.0 -1.200739  \n",
       "4  1.278464  0.0 -1.213313  \n",
       "\n",
       "[5 rows x 301 columns]"
      ]
     },
     "execution_count": 50,
     "metadata": {},
     "output_type": "execute_result"
    }
   ],
   "source": [
    "vec_df.insert(loc=0, column='Natural', value=dataframe['Natural'].values)\n",
    "vec_df.head()"
   ]
  },
  {
   "cell_type": "code",
   "execution_count": 51,
   "id": "5b306b01",
   "metadata": {},
   "outputs": [
    {
     "data": {
      "text/plain": [
       "False"
      ]
     },
     "execution_count": 51,
     "metadata": {},
     "output_type": "execute_result"
    }
   ],
   "source": [
    "vec_df.isnull().values.any()"
   ]
  },
  {
   "cell_type": "code",
   "execution_count": 52,
   "id": "7bbd6e87",
   "metadata": {},
   "outputs": [],
   "source": [
    "vec_df.to_csv('all_vec.csv', header=False)"
   ]
  },
  {
   "cell_type": "code",
   "execution_count": 53,
   "id": "9c928152",
   "metadata": {},
   "outputs": [],
   "source": [
    "nature_df = dataframe[dataframe['Natural'] >= np.median(dataframe['Natural'].values)]"
   ]
  },
  {
   "cell_type": "code",
   "execution_count": 54,
   "id": "a8c47cb0",
   "metadata": {},
   "outputs": [],
   "source": [
    "urban_df = dataframe[dataframe['Natural'] < np.median(dataframe['Natural'].values)]"
   ]
  },
  {
   "cell_type": "code",
   "execution_count": 55,
   "id": "9a5d1657",
   "metadata": {},
   "outputs": [
    {
     "data": {
      "text/plain": [
       "(512, 300)"
      ]
     },
     "execution_count": 55,
     "metadata": {},
     "output_type": "execute_result"
    }
   ],
   "source": [
    "nature_vec = np.stack(nature_df['image_vec'].values).astype(None)\n",
    "nature_vec.shape"
   ]
  },
  {
   "cell_type": "code",
   "execution_count": 56,
   "id": "c04b4f29",
   "metadata": {},
   "outputs": [
    {
     "data": {
      "text/plain": [
       "(512, 300)"
      ]
     },
     "execution_count": 56,
     "metadata": {},
     "output_type": "execute_result"
    }
   ],
   "source": [
    "urban_vec = np.stack(nature_df['image_vec'].values).astype(None)\n",
    "urban_vec.shape"
   ]
  },
  {
   "cell_type": "code",
   "execution_count": 57,
   "id": "5ae18437",
   "metadata": {},
   "outputs": [],
   "source": [
    "import scipy\n",
    "from scipy import stats"
   ]
  },
  {
   "cell_type": "code",
   "execution_count": 58,
   "id": "dd361fc2",
   "metadata": {},
   "outputs": [
    {
     "name": "stderr",
     "output_type": "stream",
     "text": [
      "/Users/liyutai/opt/anaconda3/lib/python3.8/site-packages/scipy/spatial/kdtree.py:52: RuntimeWarning: overflow encountered in square\n",
      "  return np.sum(np.abs(y-x)**p, axis=-1)\n"
     ]
    },
    {
     "data": {
      "text/plain": [
       "array([[ 0.        , 15.00334031,         inf, ...,         inf,\n",
       "                inf,         inf],\n",
       "       [15.00334031,  0.        ,         inf, ...,         inf,\n",
       "                inf,         inf],\n",
       "       [        inf,         inf,  0.        , ...,         inf,\n",
       "                inf,         inf],\n",
       "       ...,\n",
       "       [        inf,         inf,         inf, ...,  0.        ,\n",
       "        16.33593497, 27.816789  ],\n",
       "       [        inf,         inf,         inf, ..., 16.33593497,\n",
       "         0.        , 15.96955493],\n",
       "       [        inf,         inf,         inf, ..., 27.816789  ,\n",
       "        15.96955493,  0.        ]])"
      ]
     },
     "execution_count": 58,
     "metadata": {},
     "output_type": "execute_result"
    }
   ],
   "source": [
    "image_vec_array = np.array(image_vec_list)\n",
    "eu_distance = scipy.spatial.distance_matrix(image_vec_array, image_vec_array, p=2)\n",
    "eu_distance"
   ]
  },
  {
   "cell_type": "code",
   "execution_count": 59,
   "id": "9808083f",
   "metadata": {},
   "outputs": [
    {
     "data": {
      "text/plain": [
       "-2.1645883889634178e+281"
      ]
     },
     "execution_count": 59,
     "metadata": {},
     "output_type": "execute_result"
    }
   ],
   "source": [
    "np.min(image_vec_array)"
   ]
  },
  {
   "cell_type": "code",
   "execution_count": 60,
   "id": "4b4023f5",
   "metadata": {},
   "outputs": [
    {
     "name": "stderr",
     "output_type": "stream",
     "text": [
      "/Users/liyutai/opt/anaconda3/lib/python3.8/site-packages/numpy/lib/nanfunctions.py:1550: RuntimeWarning: overflow encountered in multiply\n",
      "  sqr = np.multiply(arr, arr, out=arr)\n"
     ]
    }
   ],
   "source": [
    "from sklearn.preprocessing import StandardScaler\n",
    "scaler = StandardScaler().fit(image_vec_array)\n",
    "image_vec_std = scaler.transform(image_vec_array)"
   ]
  },
  {
   "cell_type": "code",
   "execution_count": 61,
   "id": "48081919",
   "metadata": {},
   "outputs": [
    {
     "data": {
      "text/plain": [
       "(1024, 300)"
      ]
     },
     "execution_count": 61,
     "metadata": {},
     "output_type": "execute_result"
    }
   ],
   "source": [
    "image_vec_std.shape"
   ]
  },
  {
   "cell_type": "code",
   "execution_count": 62,
   "id": "5d76a7f5",
   "metadata": {},
   "outputs": [
    {
     "data": {
      "text/plain": [
       "False"
      ]
     },
     "execution_count": 62,
     "metadata": {},
     "output_type": "execute_result"
    }
   ],
   "source": [
    "np.isnan(np.sum(image_vec_std))"
   ]
  },
  {
   "cell_type": "code",
   "execution_count": 63,
   "id": "793b51bd",
   "metadata": {},
   "outputs": [
    {
     "data": {
      "text/plain": [
       "array([ 0.31357854,  1.14200182,  0.99720423, ..., -2.43865602,\n",
       "       -0.        ,  2.70362413])"
      ]
     },
     "execution_count": 63,
     "metadata": {},
     "output_type": "execute_result"
    }
   ],
   "source": [
    "image_vec_std[~np.isnan(image_vec_std)]"
   ]
  },
  {
   "cell_type": "code",
   "execution_count": 64,
   "id": "d600cf98",
   "metadata": {},
   "outputs": [
    {
     "data": {
      "text/plain": [
       "array([[ 0.31357854,  1.14200182,  0.99720423, ...,  1.29082538,\n",
       "        -0.        , -1.20372085],\n",
       "       [ 0.3956347 ,  1.13072974,  1.01597262, ...,  1.27615641,\n",
       "        -0.        , -1.21562534],\n",
       "       [ 0.39861076,  1.14706775,  1.03400543, ...,  1.29368607,\n",
       "         0.        , -1.19721763],\n",
       "       ...,\n",
       "       [ 1.49212594, -1.61205756, -0.05860222, ..., -2.41738301,\n",
       "        -0.        ,  2.66616955],\n",
       "       [ 1.3090986 , -1.636974  , -0.16164761, ..., -2.42067331,\n",
       "        -0.        ,  2.68830972],\n",
       "       [ 1.45426492, -1.65273507, -0.21939489, ..., -2.43865602,\n",
       "        -0.        ,  2.70362413]])"
      ]
     },
     "execution_count": 64,
     "metadata": {},
     "output_type": "execute_result"
    }
   ],
   "source": [
    "np.nan_to_num(image_vec_std, copy = False)"
   ]
  },
  {
   "cell_type": "code",
   "execution_count": 65,
   "id": "bd215d0d",
   "metadata": {},
   "outputs": [
    {
     "data": {
      "text/plain": [
       "0"
      ]
     },
     "execution_count": 65,
     "metadata": {},
     "output_type": "execute_result"
    }
   ],
   "source": [
    "np.isnan(image_vec_std).sum()"
   ]
  },
  {
   "cell_type": "code",
   "execution_count": 66,
   "id": "748fca62",
   "metadata": {},
   "outputs": [
    {
     "data": {
      "text/plain": [
       "(523776,)"
      ]
     },
     "execution_count": 66,
     "metadata": {},
     "output_type": "execute_result"
    }
   ],
   "source": [
    "eu_distance = scipy.spatial.distance.pdist(all_new_vec, metric='euclidean')\n",
    "eu_distance.shape"
   ]
  },
  {
   "cell_type": "code",
   "execution_count": 67,
   "id": "754b5e64",
   "metadata": {},
   "outputs": [
    {
     "data": {
      "text/plain": [
       "inf"
      ]
     },
     "execution_count": 67,
     "metadata": {},
     "output_type": "execute_result"
    }
   ],
   "source": [
    "np.max(eu_distance)"
   ]
  },
  {
   "cell_type": "code",
   "execution_count": 68,
   "id": "65712724",
   "metadata": {},
   "outputs": [
    {
     "data": {
      "text/plain": [
       "8262.806657648394"
      ]
     },
     "execution_count": 68,
     "metadata": {},
     "output_type": "execute_result"
    }
   ],
   "source": [
    "nature_distance = scipy.spatial.distance_matrix(nature_vec, nature_vec, p=2)\n",
    "np.max(nature_distance)"
   ]
  },
  {
   "cell_type": "code",
   "execution_count": 69,
   "id": "4ba718c5",
   "metadata": {},
   "outputs": [
    {
     "name": "stderr",
     "output_type": "stream",
     "text": [
      "/Users/liyutai/opt/anaconda3/lib/python3.8/site-packages/numpy/core/_methods.py:230: RuntimeWarning: invalid value encountered in subtract\n",
      "  x = asanyarray(arr - arrmean)\n",
      "/Users/liyutai/opt/anaconda3/lib/python3.8/site-packages/scipy/stats/stats.py:1082: RuntimeWarning: invalid value encountered in subtract\n",
      "  a_zero_mean = a - np.expand_dims(np.mean(a, axis), axis)\n"
     ]
    },
    {
     "data": {
      "text/plain": [
       "DescribeResult(nobs=523776, minmax=(7.1409303348936115, inf), mean=inf, variance=nan, skewness=nan, kurtosis=nan)"
      ]
     },
     "execution_count": 69,
     "metadata": {},
     "output_type": "execute_result"
    }
   ],
   "source": [
    "stats.describe(eu_distance)"
   ]
  },
  {
   "cell_type": "code",
   "execution_count": 70,
   "id": "0ddb4547",
   "metadata": {},
   "outputs": [
    {
     "data": {
      "text/plain": [
       "2905.113628227062"
      ]
     },
     "execution_count": 70,
     "metadata": {},
     "output_type": "execute_result"
    }
   ],
   "source": [
    "np.median(eu_distance)"
   ]
  },
  {
   "cell_type": "code",
   "execution_count": 71,
   "id": "4e6d808d",
   "metadata": {},
   "outputs": [],
   "source": [
    "from matplotlib import pyplot as plt "
   ]
  },
  {
   "cell_type": "code",
   "execution_count": 72,
   "id": "fdfacaaa",
   "metadata": {},
   "outputs": [
    {
     "data": {
      "image/png": "[encoded data removed]",
      "text/plain": [
       "<Figure size 432x288 with 1 Axes>"
      ]
     },
     "metadata": {
      "needs_background": "light"
     },
     "output_type": "display_data"
    }
   ],
   "source": [
    "plt.hist(eu_distance, bins = [0,1000000]) \n",
    "plt.title(\"histogram\") \n",
    "plt.show()"
   ]
  },
  {
   "cell_type": "code",
   "execution_count": null,
   "id": "348f78d4",
   "metadata": {},
   "outputs": [],
   "source": []
  }
 ],
 "metadata": {
  "kernelspec": {
   "display_name": "Python 3",
   "language": "python",
   "name": "python3"
  },
  "language_info": {
   "codemirror_mode": {
    "name": "ipython",
    "version": 3
   },
   "file_extension": ".py",
   "mimetype": "text/x-python",
   "name": "python",
   "nbconvert_exporter": "python",
   "pygments_lexer": "ipython3",
   "version": "3.8.8"
  }
 },
 "nbformat": 4,
 "nbformat_minor": 5
}
