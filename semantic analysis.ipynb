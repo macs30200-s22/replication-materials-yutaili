{
 "cells": [
  {
   "cell_type": "markdown",
   "id": "b67c6381",
   "metadata": {},
   "source": [
    "### Semantic Distance"
   ]
  },
  {
   "cell_type": "code",
   "execution_count": 4,
   "id": "63367b11",
   "metadata": {},
   "outputs": [
    {
     "name": "stdout",
     "output_type": "stream",
     "text": [
      "Requirement already satisfied: gensim in /Users/liyutai/opt/anaconda3/lib/python3.8/site-packages (4.1.2)\n",
      "Requirement already satisfied: scipy>=0.18.1 in /Users/liyutai/opt/anaconda3/lib/python3.8/site-packages (from gensim) (1.6.2)\n",
      "Requirement already satisfied: numpy>=1.17.0 in /Users/liyutai/opt/anaconda3/lib/python3.8/site-packages (from gensim) (1.21.5)\n",
      "Requirement already satisfied: smart-open>=1.8.1 in /Users/liyutai/opt/anaconda3/lib/python3.8/site-packages (from gensim) (6.0.0)\n",
      "Requirement already satisfied: nltk in /Users/liyutai/opt/anaconda3/lib/python3.8/site-packages (3.6.1)\n",
      "Requirement already satisfied: tqdm in /Users/liyutai/opt/anaconda3/lib/python3.8/site-packages (from nltk) (4.59.0)\n",
      "Requirement already satisfied: joblib in /Users/liyutai/opt/anaconda3/lib/python3.8/site-packages (from nltk) (1.0.1)\n",
      "Requirement already satisfied: click in /Users/liyutai/opt/anaconda3/lib/python3.8/site-packages (from nltk) (7.1.2)\n",
      "Requirement already satisfied: regex in /Users/liyutai/opt/anaconda3/lib/python3.8/site-packages (from nltk) (2021.4.4)\n"
     ]
    }
   ],
   "source": [
    "! pip install gensim\n",
    "! pip install nltk"
   ]
  },
  {
   "cell_type": "code",
   "execution_count": 1,
   "id": "57a6e6e8",
   "metadata": {},
   "outputs": [],
   "source": [
    "# import packages\n",
    "import matplotlib.pyplot as plt\n",
    "import pandas as pd\n",
    "import numpy as np\n",
    "from gensim.models import Word2Vec\n",
    "import os"
   ]
  },
  {
   "cell_type": "code",
   "execution_count": 2,
   "id": "d1e7bf8a",
   "metadata": {},
   "outputs": [
    {
     "data": {
      "text/plain": [
       "'/Users/liyutai/Desktop/MACS 30200/project'"
      ]
     },
     "execution_count": 2,
     "metadata": {},
     "output_type": "execute_result"
    }
   ],
   "source": [
    "os.getcwd()"
   ]
  },
  {
   "cell_type": "code",
   "execution_count": 3,
   "id": "05522d8f",
   "metadata": {},
   "outputs": [],
   "source": [
    "ll_df = pd.read_csv(\"MIT_ImageRatings.csv\")"
   ]
  },
  {
   "cell_type": "code",
   "execution_count": 4,
   "id": "e193fcc0",
   "metadata": {},
   "outputs": [],
   "source": [
    "hl_df = pd.read_csv(\"image_label.csv\")"
   ]
  },
  {
   "cell_type": "code",
   "execution_count": 5,
   "id": "f54d9bd0",
   "metadata": {},
   "outputs": [
    {
     "data": {
      "text/html": [
       "<div>\n",
       "<style scoped>\n",
       "    .dataframe tbody tr th:only-of-type {\n",
       "        vertical-align: middle;\n",
       "    }\n",
       "\n",
       "    .dataframe tbody tr th {\n",
       "        vertical-align: top;\n",
       "    }\n",
       "\n",
       "    .dataframe thead th {\n",
       "        text-align: right;\n",
       "    }\n",
       "</style>\n",
       "<table border=\"1\" class=\"dataframe\">\n",
       "  <thead>\n",
       "    <tr style=\"text-align: right;\">\n",
       "      <th></th>\n",
       "      <th>image_name</th>\n",
       "      <th>Hue</th>\n",
       "      <th>Sat</th>\n",
       "      <th>Lum</th>\n",
       "      <th>sdHue</th>\n",
       "      <th>sdSat</th>\n",
       "      <th>sdBright</th>\n",
       "      <th>Entropy</th>\n",
       "      <th>LRSymm</th>\n",
       "      <th>UDSymm</th>\n",
       "      <th>SED</th>\n",
       "      <th>NSED</th>\n",
       "      <th>ED</th>\n",
       "      <th>Order</th>\n",
       "      <th>Natural</th>\n",
       "      <th>Habitable</th>\n",
       "      <th>Preference</th>\n",
       "    </tr>\n",
       "  </thead>\n",
       "  <tbody>\n",
       "    <tr>\n",
       "      <th>0</th>\n",
       "      <td>5290333715_fbe95626ae_o.jpg</td>\n",
       "      <td>0.123053</td>\n",
       "      <td>0.280524</td>\n",
       "      <td>0.465580</td>\n",
       "      <td>0.197126</td>\n",
       "      <td>0.216424</td>\n",
       "      <td>0.275851</td>\n",
       "      <td>7.434824</td>\n",
       "      <td>0.005822</td>\n",
       "      <td>0.004986</td>\n",
       "      <td>0.121669</td>\n",
       "      <td>0.008589</td>\n",
       "      <td>0.096019</td>\n",
       "      <td>1.00</td>\n",
       "      <td>2.17</td>\n",
       "      <td>2.93</td>\n",
       "      <td>1.53</td>\n",
       "    </tr>\n",
       "    <tr>\n",
       "      <th>1</th>\n",
       "      <td>4357587050_d09069f341_o.jpg</td>\n",
       "      <td>0.276483</td>\n",
       "      <td>0.254353</td>\n",
       "      <td>0.566156</td>\n",
       "      <td>0.278846</td>\n",
       "      <td>0.294493</td>\n",
       "      <td>0.270801</td>\n",
       "      <td>6.177281</td>\n",
       "      <td>0.008411</td>\n",
       "      <td>0.007431</td>\n",
       "      <td>0.077890</td>\n",
       "      <td>0.034188</td>\n",
       "      <td>0.100465</td>\n",
       "      <td>1.06</td>\n",
       "      <td>2.00</td>\n",
       "      <td>1.59</td>\n",
       "      <td>1.74</td>\n",
       "    </tr>\n",
       "    <tr>\n",
       "      <th>2</th>\n",
       "      <td>sun_audijvtzzhgkrybg.jpg</td>\n",
       "      <td>0.278962</td>\n",
       "      <td>0.202144</td>\n",
       "      <td>0.497832</td>\n",
       "      <td>0.259493</td>\n",
       "      <td>0.157821</td>\n",
       "      <td>0.232531</td>\n",
       "      <td>7.738311</td>\n",
       "      <td>0.010022</td>\n",
       "      <td>0.008939</td>\n",
       "      <td>0.059931</td>\n",
       "      <td>0.102152</td>\n",
       "      <td>0.134441</td>\n",
       "      <td>1.07</td>\n",
       "      <td>2.04</td>\n",
       "      <td>2.10</td>\n",
       "      <td>1.95</td>\n",
       "    </tr>\n",
       "    <tr>\n",
       "      <th>3</th>\n",
       "      <td>sun_ajjodogkvthozlni.jpg</td>\n",
       "      <td>0.378697</td>\n",
       "      <td>0.205623</td>\n",
       "      <td>0.475785</td>\n",
       "      <td>0.220284</td>\n",
       "      <td>0.194211</td>\n",
       "      <td>0.314798</td>\n",
       "      <td>7.733583</td>\n",
       "      <td>0.008954</td>\n",
       "      <td>0.008261</td>\n",
       "      <td>0.086321</td>\n",
       "      <td>0.079031</td>\n",
       "      <td>0.123857</td>\n",
       "      <td>1.09</td>\n",
       "      <td>1.16</td>\n",
       "      <td>2.08</td>\n",
       "      <td>1.26</td>\n",
       "    </tr>\n",
       "    <tr>\n",
       "      <th>4</th>\n",
       "      <td>sun_dgqyeayssxdxcaim.jpg</td>\n",
       "      <td>0.389366</td>\n",
       "      <td>0.175528</td>\n",
       "      <td>0.538711</td>\n",
       "      <td>0.344595</td>\n",
       "      <td>0.135950</td>\n",
       "      <td>0.194159</td>\n",
       "      <td>7.118987</td>\n",
       "      <td>0.009003</td>\n",
       "      <td>0.003885</td>\n",
       "      <td>0.040296</td>\n",
       "      <td>0.077255</td>\n",
       "      <td>0.111384</td>\n",
       "      <td>1.12</td>\n",
       "      <td>1.85</td>\n",
       "      <td>2.81</td>\n",
       "      <td>1.61</td>\n",
       "    </tr>\n",
       "  </tbody>\n",
       "</table>\n",
       "</div>"
      ],
      "text/plain": [
       "                    image_name       Hue       Sat       Lum     sdHue  \\\n",
       "0  5290333715_fbe95626ae_o.jpg  0.123053  0.280524  0.465580  0.197126   \n",
       "1  4357587050_d09069f341_o.jpg  0.276483  0.254353  0.566156  0.278846   \n",
       "2     sun_audijvtzzhgkrybg.jpg  0.278962  0.202144  0.497832  0.259493   \n",
       "3     sun_ajjodogkvthozlni.jpg  0.378697  0.205623  0.475785  0.220284   \n",
       "4     sun_dgqyeayssxdxcaim.jpg  0.389366  0.175528  0.538711  0.344595   \n",
       "\n",
       "      sdSat  sdBright   Entropy    LRSymm    UDSymm       SED      NSED  \\\n",
       "0  0.216424  0.275851  7.434824  0.005822  0.004986  0.121669  0.008589   \n",
       "1  0.294493  0.270801  6.177281  0.008411  0.007431  0.077890  0.034188   \n",
       "2  0.157821  0.232531  7.738311  0.010022  0.008939  0.059931  0.102152   \n",
       "3  0.194211  0.314798  7.733583  0.008954  0.008261  0.086321  0.079031   \n",
       "4  0.135950  0.194159  7.118987  0.009003  0.003885  0.040296  0.077255   \n",
       "\n",
       "         ED  Order  Natural  Habitable  Preference  \n",
       "0  0.096019   1.00     2.17       2.93        1.53  \n",
       "1  0.100465   1.06     2.00       1.59        1.74  \n",
       "2  0.134441   1.07     2.04       2.10        1.95  \n",
       "3  0.123857   1.09     1.16       2.08        1.26  \n",
       "4  0.111384   1.12     1.85       2.81        1.61  "
      ]
     },
     "execution_count": 5,
     "metadata": {},
     "output_type": "execute_result"
    }
   ],
   "source": [
    "ll_df.head()"
   ]
  },
  {
   "cell_type": "code",
   "execution_count": 6,
   "id": "26ad15c0",
   "metadata": {},
   "outputs": [
    {
     "data": {
      "text/html": [
       "<div>\n",
       "<style scoped>\n",
       "    .dataframe tbody tr th:only-of-type {\n",
       "        vertical-align: middle;\n",
       "    }\n",
       "\n",
       "    .dataframe tbody tr th {\n",
       "        vertical-align: top;\n",
       "    }\n",
       "\n",
       "    .dataframe thead th {\n",
       "        text-align: right;\n",
       "    }\n",
       "</style>\n",
       "<table border=\"1\" class=\"dataframe\">\n",
       "  <thead>\n",
       "    <tr style=\"text-align: right;\">\n",
       "      <th></th>\n",
       "      <th>image_name</th>\n",
       "      <th>labels</th>\n",
       "    </tr>\n",
       "  </thead>\n",
       "  <tbody>\n",
       "    <tr>\n",
       "      <th>0</th>\n",
       "      <td>2755860336_126b78842a_o.jpg</td>\n",
       "      <td>['Plant(96.71%)', 'Building(96.41%)', 'Window(...</td>\n",
       "    </tr>\n",
       "    <tr>\n",
       "      <th>1</th>\n",
       "      <td>5005678830_2e45739d41_o.jpg</td>\n",
       "      <td>['Plant(97.29%)', 'Sky(96.57%)', 'Building(96....</td>\n",
       "    </tr>\n",
       "    <tr>\n",
       "      <th>2</th>\n",
       "      <td>sun_bggixrgemhvuewkc.jpg</td>\n",
       "      <td>['Plant(96.76%)', 'Building(96.48%)', 'Car(95....</td>\n",
       "    </tr>\n",
       "    <tr>\n",
       "      <th>3</th>\n",
       "      <td>sun_arkbrhiinafdbhrw.jpg</td>\n",
       "      <td>['Plant(96.95%)', 'Plant community(93.29%)', '...</td>\n",
       "    </tr>\n",
       "    <tr>\n",
       "      <th>4</th>\n",
       "      <td>sun_blplndgggpunourm.jpg</td>\n",
       "      <td>['Water(98.00%)', 'Plant(96.93%)', 'Water reso...</td>\n",
       "    </tr>\n",
       "  </tbody>\n",
       "</table>\n",
       "</div>"
      ],
      "text/plain": [
       "                    image_name  \\\n",
       "0  2755860336_126b78842a_o.jpg   \n",
       "1  5005678830_2e45739d41_o.jpg   \n",
       "2     sun_bggixrgemhvuewkc.jpg   \n",
       "3     sun_arkbrhiinafdbhrw.jpg   \n",
       "4     sun_blplndgggpunourm.jpg   \n",
       "\n",
       "                                              labels  \n",
       "0  ['Plant(96.71%)', 'Building(96.41%)', 'Window(...  \n",
       "1  ['Plant(97.29%)', 'Sky(96.57%)', 'Building(96....  \n",
       "2  ['Plant(96.76%)', 'Building(96.48%)', 'Car(95....  \n",
       "3  ['Plant(96.95%)', 'Plant community(93.29%)', '...  \n",
       "4  ['Water(98.00%)', 'Plant(96.93%)', 'Water reso...  "
      ]
     },
     "execution_count": 6,
     "metadata": {},
     "output_type": "execute_result"
    }
   ],
   "source": [
    "hl_df.head()"
   ]
  },
  {
   "cell_type": "code",
   "execution_count": 7,
   "id": "89f02423",
   "metadata": {},
   "outputs": [],
   "source": [
    "dataframe = ll_df.join(hl_df.set_index('image_name'), on='image_name')"
   ]
  },
  {
   "cell_type": "code",
   "execution_count": 8,
   "id": "886f6c03",
   "metadata": {},
   "outputs": [],
   "source": [
    "dataframe = dataframe[['image_name', 'Natural', 'labels']]"
   ]
  },
  {
   "cell_type": "code",
   "execution_count": 9,
   "id": "d81dd124",
   "metadata": {},
   "outputs": [
    {
     "data": {
      "text/html": [
       "<div>\n",
       "<style scoped>\n",
       "    .dataframe tbody tr th:only-of-type {\n",
       "        vertical-align: middle;\n",
       "    }\n",
       "\n",
       "    .dataframe tbody tr th {\n",
       "        vertical-align: top;\n",
       "    }\n",
       "\n",
       "    .dataframe thead th {\n",
       "        text-align: right;\n",
       "    }\n",
       "</style>\n",
       "<table border=\"1\" class=\"dataframe\">\n",
       "  <thead>\n",
       "    <tr style=\"text-align: right;\">\n",
       "      <th></th>\n",
       "      <th>image_name</th>\n",
       "      <th>Natural</th>\n",
       "      <th>labels</th>\n",
       "    </tr>\n",
       "  </thead>\n",
       "  <tbody>\n",
       "    <tr>\n",
       "      <th>0</th>\n",
       "      <td>5290333715_fbe95626ae_o.jpg</td>\n",
       "      <td>2.17</td>\n",
       "      <td>['Building(94.69%)', 'Daytime(94.46%)', 'Prope...</td>\n",
       "    </tr>\n",
       "    <tr>\n",
       "      <th>1</th>\n",
       "      <td>4357587050_d09069f341_o.jpg</td>\n",
       "      <td>2.00</td>\n",
       "      <td>['Building(95.83%)', 'Window(94.71%)', 'Proper...</td>\n",
       "    </tr>\n",
       "    <tr>\n",
       "      <th>2</th>\n",
       "      <td>sun_audijvtzzhgkrybg.jpg</td>\n",
       "      <td>2.04</td>\n",
       "      <td>['Daytime(94.42%)', 'Property(94.33%)', 'Sky(9...</td>\n",
       "    </tr>\n",
       "    <tr>\n",
       "      <th>3</th>\n",
       "      <td>sun_ajjodogkvthozlni.jpg</td>\n",
       "      <td>1.16</td>\n",
       "      <td>['Sky(95.29%)', 'Building(92.38%)', 'Urban des...</td>\n",
       "    </tr>\n",
       "    <tr>\n",
       "      <th>4</th>\n",
       "      <td>sun_dgqyeayssxdxcaim.jpg</td>\n",
       "      <td>1.85</td>\n",
       "      <td>['Sky(95.24%)', 'Cloud(93.56%)', 'Wood(85.84%)...</td>\n",
       "    </tr>\n",
       "  </tbody>\n",
       "</table>\n",
       "</div>"
      ],
      "text/plain": [
       "                    image_name  Natural  \\\n",
       "0  5290333715_fbe95626ae_o.jpg     2.17   \n",
       "1  4357587050_d09069f341_o.jpg     2.00   \n",
       "2     sun_audijvtzzhgkrybg.jpg     2.04   \n",
       "3     sun_ajjodogkvthozlni.jpg     1.16   \n",
       "4     sun_dgqyeayssxdxcaim.jpg     1.85   \n",
       "\n",
       "                                              labels  \n",
       "0  ['Building(94.69%)', 'Daytime(94.46%)', 'Prope...  \n",
       "1  ['Building(95.83%)', 'Window(94.71%)', 'Proper...  \n",
       "2  ['Daytime(94.42%)', 'Property(94.33%)', 'Sky(9...  \n",
       "3  ['Sky(95.29%)', 'Building(92.38%)', 'Urban des...  \n",
       "4  ['Sky(95.24%)', 'Cloud(93.56%)', 'Wood(85.84%)...  "
      ]
     },
     "execution_count": 9,
     "metadata": {},
     "output_type": "execute_result"
    }
   ],
   "source": [
    "dataframe.head()"
   ]
  },
  {
   "cell_type": "code",
   "execution_count": 10,
   "id": "7ca2db54",
   "metadata": {},
   "outputs": [
    {
     "data": {
      "text/plain": [
       "image_name     0\n",
       "Natural        0\n",
       "labels        75\n",
       "dtype: int64"
      ]
     },
     "execution_count": 10,
     "metadata": {},
     "output_type": "execute_result"
    }
   ],
   "source": [
    "dataframe.isnull().sum()"
   ]
  },
  {
   "cell_type": "code",
   "execution_count": 11,
   "id": "623bb5d4",
   "metadata": {},
   "outputs": [],
   "source": [
    "miss_val = pd.isnull(dataframe['labels'])"
   ]
  },
  {
   "cell_type": "code",
   "execution_count": 12,
   "id": "58a41f5a",
   "metadata": {},
   "outputs": [
    {
     "data": {
      "text/html": [
       "<div>\n",
       "<style scoped>\n",
       "    .dataframe tbody tr th:only-of-type {\n",
       "        vertical-align: middle;\n",
       "    }\n",
       "\n",
       "    .dataframe tbody tr th {\n",
       "        vertical-align: top;\n",
       "    }\n",
       "\n",
       "    .dataframe thead th {\n",
       "        text-align: right;\n",
       "    }\n",
       "</style>\n",
       "<table border=\"1\" class=\"dataframe\">\n",
       "  <thead>\n",
       "    <tr style=\"text-align: right;\">\n",
       "      <th></th>\n",
       "      <th>image_name</th>\n",
       "      <th>Natural</th>\n",
       "      <th>labels</th>\n",
       "    </tr>\n",
       "  </thead>\n",
       "  <tbody>\n",
       "    <tr>\n",
       "      <th>214</th>\n",
       "      <td>sun_abnxhmmesrvgqazg.jpg</td>\n",
       "      <td>2.61</td>\n",
       "      <td>NaN</td>\n",
       "    </tr>\n",
       "    <tr>\n",
       "      <th>224</th>\n",
       "      <td>sun_aglpxonwfoqtmeub.jpg</td>\n",
       "      <td>6.79</td>\n",
       "      <td>NaN</td>\n",
       "    </tr>\n",
       "    <tr>\n",
       "      <th>239</th>\n",
       "      <td>sun_bbpefokgivhwzglh.jpg</td>\n",
       "      <td>1.58</td>\n",
       "      <td>NaN</td>\n",
       "    </tr>\n",
       "    <tr>\n",
       "      <th>272</th>\n",
       "      <td>sun_bccjpnbmxhyfptmc.jpg</td>\n",
       "      <td>2.60</td>\n",
       "      <td>NaN</td>\n",
       "    </tr>\n",
       "    <tr>\n",
       "      <th>274</th>\n",
       "      <td>sun_bbzwbfgqadhzqhqf.jpg</td>\n",
       "      <td>6.00</td>\n",
       "      <td>NaN</td>\n",
       "    </tr>\n",
       "    <tr>\n",
       "      <th>...</th>\n",
       "      <td>...</td>\n",
       "      <td>...</td>\n",
       "      <td>...</td>\n",
       "    </tr>\n",
       "    <tr>\n",
       "      <th>1076</th>\n",
       "      <td>sun_byyoeixlskdvtnxu.jpg</td>\n",
       "      <td>1.70</td>\n",
       "      <td>NaN</td>\n",
       "    </tr>\n",
       "    <tr>\n",
       "      <th>1081</th>\n",
       "      <td>sun_badbdepxqipklvvf.jpg</td>\n",
       "      <td>6.93</td>\n",
       "      <td>NaN</td>\n",
       "    </tr>\n",
       "    <tr>\n",
       "      <th>1085</th>\n",
       "      <td>labelme_cwyzvggchetltzv.jpg</td>\n",
       "      <td>1.71</td>\n",
       "      <td>NaN</td>\n",
       "    </tr>\n",
       "    <tr>\n",
       "      <th>1097</th>\n",
       "      <td>sun_aaqeqhpbmudvvcdj.jpg</td>\n",
       "      <td>1.50</td>\n",
       "      <td>NaN</td>\n",
       "    </tr>\n",
       "    <tr>\n",
       "      <th>1102</th>\n",
       "      <td>sun_abrrtrlvdghzzuxz.jpg</td>\n",
       "      <td>1.40</td>\n",
       "      <td>NaN</td>\n",
       "    </tr>\n",
       "  </tbody>\n",
       "</table>\n",
       "<p>75 rows × 3 columns</p>\n",
       "</div>"
      ],
      "text/plain": [
       "                       image_name  Natural labels\n",
       "214      sun_abnxhmmesrvgqazg.jpg     2.61    NaN\n",
       "224      sun_aglpxonwfoqtmeub.jpg     6.79    NaN\n",
       "239      sun_bbpefokgivhwzglh.jpg     1.58    NaN\n",
       "272      sun_bccjpnbmxhyfptmc.jpg     2.60    NaN\n",
       "274      sun_bbzwbfgqadhzqhqf.jpg     6.00    NaN\n",
       "...                           ...      ...    ...\n",
       "1076     sun_byyoeixlskdvtnxu.jpg     1.70    NaN\n",
       "1081     sun_badbdepxqipklvvf.jpg     6.93    NaN\n",
       "1085  labelme_cwyzvggchetltzv.jpg     1.71    NaN\n",
       "1097     sun_aaqeqhpbmudvvcdj.jpg     1.50    NaN\n",
       "1102     sun_abrrtrlvdghzzuxz.jpg     1.40    NaN\n",
       "\n",
       "[75 rows x 3 columns]"
      ]
     },
     "execution_count": 12,
     "metadata": {},
     "output_type": "execute_result"
    }
   ],
   "source": [
    "dataframe[miss_val]"
   ]
  },
  {
   "cell_type": "code",
   "execution_count": 13,
   "id": "3c18a0f7",
   "metadata": {},
   "outputs": [],
   "source": [
    "clean_df = dataframe[pd.notnull(dataframe['labels'])]"
   ]
  },
  {
   "cell_type": "code",
   "execution_count": 14,
   "id": "84f876d9",
   "metadata": {},
   "outputs": [
    {
     "data": {
      "text/plain": [
       "1030"
      ]
     },
     "execution_count": 14,
     "metadata": {},
     "output_type": "execute_result"
    }
   ],
   "source": [
    "len(clean_df)"
   ]
  },
  {
   "cell_type": "code",
   "execution_count": 15,
   "id": "f84526cc",
   "metadata": {},
   "outputs": [
    {
     "data": {
      "text/html": [
       "<div>\n",
       "<style scoped>\n",
       "    .dataframe tbody tr th:only-of-type {\n",
       "        vertical-align: middle;\n",
       "    }\n",
       "\n",
       "    .dataframe tbody tr th {\n",
       "        vertical-align: top;\n",
       "    }\n",
       "\n",
       "    .dataframe thead th {\n",
       "        text-align: right;\n",
       "    }\n",
       "</style>\n",
       "<table border=\"1\" class=\"dataframe\">\n",
       "  <thead>\n",
       "    <tr style=\"text-align: right;\">\n",
       "      <th></th>\n",
       "      <th>image_name</th>\n",
       "      <th>Natural</th>\n",
       "      <th>labels</th>\n",
       "    </tr>\n",
       "  </thead>\n",
       "  <tbody>\n",
       "    <tr>\n",
       "      <th>199</th>\n",
       "      <td>4463022243_8881fc7bda_o.jpg</td>\n",
       "      <td>1.47</td>\n",
       "      <td>[]</td>\n",
       "    </tr>\n",
       "    <tr>\n",
       "      <th>259</th>\n",
       "      <td>sun_bvnbbmftbvgjxxnf.jpg</td>\n",
       "      <td>6.42</td>\n",
       "      <td>[]</td>\n",
       "    </tr>\n",
       "    <tr>\n",
       "      <th>655</th>\n",
       "      <td>sun_bewlahslhahuvzjt.jpg</td>\n",
       "      <td>6.90</td>\n",
       "      <td>[]</td>\n",
       "    </tr>\n",
       "    <tr>\n",
       "      <th>960</th>\n",
       "      <td>sun_bdtmmtsvfiwkcdfh.jpg</td>\n",
       "      <td>1.12</td>\n",
       "      <td>[]</td>\n",
       "    </tr>\n",
       "    <tr>\n",
       "      <th>1059</th>\n",
       "      <td>sun_bkdzqjanktzjkvjb.jpg</td>\n",
       "      <td>4.28</td>\n",
       "      <td>[]</td>\n",
       "    </tr>\n",
       "    <tr>\n",
       "      <th>1100</th>\n",
       "      <td>sun_alewbcnalibklcwh.jpg</td>\n",
       "      <td>2.08</td>\n",
       "      <td>[]</td>\n",
       "    </tr>\n",
       "  </tbody>\n",
       "</table>\n",
       "</div>"
      ],
      "text/plain": [
       "                       image_name  Natural labels\n",
       "199   4463022243_8881fc7bda_o.jpg     1.47     []\n",
       "259      sun_bvnbbmftbvgjxxnf.jpg     6.42     []\n",
       "655      sun_bewlahslhahuvzjt.jpg     6.90     []\n",
       "960      sun_bdtmmtsvfiwkcdfh.jpg     1.12     []\n",
       "1059     sun_bkdzqjanktzjkvjb.jpg     4.28     []\n",
       "1100     sun_alewbcnalibklcwh.jpg     2.08     []"
      ]
     },
     "execution_count": 15,
     "metadata": {},
     "output_type": "execute_result"
    }
   ],
   "source": [
    "clean_df[clean_df['labels'] == \"[]\"]"
   ]
  },
  {
   "cell_type": "code",
   "execution_count": 16,
   "id": "5f03f907",
   "metadata": {},
   "outputs": [],
   "source": [
    "clean_df2 = clean_df[clean_df['labels'] != \"[]\"]"
   ]
  },
  {
   "cell_type": "code",
   "execution_count": 17,
   "id": "c40942a1",
   "metadata": {},
   "outputs": [
    {
     "data": {
      "text/html": [
       "<div>\n",
       "<style scoped>\n",
       "    .dataframe tbody tr th:only-of-type {\n",
       "        vertical-align: middle;\n",
       "    }\n",
       "\n",
       "    .dataframe tbody tr th {\n",
       "        vertical-align: top;\n",
       "    }\n",
       "\n",
       "    .dataframe thead th {\n",
       "        text-align: right;\n",
       "    }\n",
       "</style>\n",
       "<table border=\"1\" class=\"dataframe\">\n",
       "  <thead>\n",
       "    <tr style=\"text-align: right;\">\n",
       "      <th></th>\n",
       "      <th>image_name</th>\n",
       "      <th>Natural</th>\n",
       "      <th>labels</th>\n",
       "    </tr>\n",
       "  </thead>\n",
       "  <tbody>\n",
       "    <tr>\n",
       "      <th>0</th>\n",
       "      <td>5290333715_fbe95626ae_o.jpg</td>\n",
       "      <td>2.17</td>\n",
       "      <td>['Building(94.69%)', 'Daytime(94.46%)', 'Prope...</td>\n",
       "    </tr>\n",
       "    <tr>\n",
       "      <th>1</th>\n",
       "      <td>4357587050_d09069f341_o.jpg</td>\n",
       "      <td>2.00</td>\n",
       "      <td>['Building(95.83%)', 'Window(94.71%)', 'Proper...</td>\n",
       "    </tr>\n",
       "    <tr>\n",
       "      <th>2</th>\n",
       "      <td>sun_audijvtzzhgkrybg.jpg</td>\n",
       "      <td>2.04</td>\n",
       "      <td>['Daytime(94.42%)', 'Property(94.33%)', 'Sky(9...</td>\n",
       "    </tr>\n",
       "    <tr>\n",
       "      <th>3</th>\n",
       "      <td>sun_ajjodogkvthozlni.jpg</td>\n",
       "      <td>1.16</td>\n",
       "      <td>['Sky(95.29%)', 'Building(92.38%)', 'Urban des...</td>\n",
       "    </tr>\n",
       "    <tr>\n",
       "      <th>4</th>\n",
       "      <td>sun_dgqyeayssxdxcaim.jpg</td>\n",
       "      <td>1.85</td>\n",
       "      <td>['Sky(95.24%)', 'Cloud(93.56%)', 'Wood(85.84%)...</td>\n",
       "    </tr>\n",
       "  </tbody>\n",
       "</table>\n",
       "</div>"
      ],
      "text/plain": [
       "                    image_name  Natural  \\\n",
       "0  5290333715_fbe95626ae_o.jpg     2.17   \n",
       "1  4357587050_d09069f341_o.jpg     2.00   \n",
       "2     sun_audijvtzzhgkrybg.jpg     2.04   \n",
       "3     sun_ajjodogkvthozlni.jpg     1.16   \n",
       "4     sun_dgqyeayssxdxcaim.jpg     1.85   \n",
       "\n",
       "                                              labels  \n",
       "0  ['Building(94.69%)', 'Daytime(94.46%)', 'Prope...  \n",
       "1  ['Building(95.83%)', 'Window(94.71%)', 'Proper...  \n",
       "2  ['Daytime(94.42%)', 'Property(94.33%)', 'Sky(9...  \n",
       "3  ['Sky(95.29%)', 'Building(92.38%)', 'Urban des...  \n",
       "4  ['Sky(95.24%)', 'Cloud(93.56%)', 'Wood(85.84%)...  "
      ]
     },
     "execution_count": 17,
     "metadata": {},
     "output_type": "execute_result"
    }
   ],
   "source": [
    "clean_df2.head()"
   ]
  },
  {
   "cell_type": "code",
   "execution_count": 18,
   "id": "760314b3",
   "metadata": {},
   "outputs": [
    {
     "data": {
      "text/plain": [
       "10"
      ]
     },
     "execution_count": 18,
     "metadata": {},
     "output_type": "execute_result"
    }
   ],
   "source": [
    "len(clean_df2.loc[0]['labels'].split(\",\"))"
   ]
  },
  {
   "cell_type": "code",
   "execution_count": 42,
   "id": "a0de8c1a",
   "metadata": {},
   "outputs": [
    {
     "name": "stderr",
     "output_type": "stream",
     "text": [
      "<ipython-input-42-28bb8b0ee409>:3: SettingWithCopyWarning: \n",
      "A value is trying to be set on a copy of a slice from a DataFrame.\n",
      "Try using .loc[row_indexer,col_indexer] = value instead\n",
      "\n",
      "See the caveats in the documentation: https://pandas.pydata.org/pandas-docs/stable/user_guide/indexing.html#returning-a-view-versus-a-copy\n",
      "  dataframe['num_label'] = len(dataframe.iloc[x]['labels'].split(\",\"))\n"
     ]
    }
   ],
   "source": [
    "dataframe = clean_df2[:]\n",
    "for x in range(len(dataframe)):\n",
    "    dataframe['num_label'] = len(dataframe.iloc[x]['labels'].split(\",\"))"
   ]
  },
  {
   "cell_type": "code",
   "execution_count": 52,
   "id": "b2ac1397",
   "metadata": {},
   "outputs": [
    {
     "data": {
      "text/plain": [
       "10    1024\n",
       "Name: num_label, dtype: int64"
      ]
     },
     "execution_count": 52,
     "metadata": {},
     "output_type": "execute_result"
    }
   ],
   "source": [
    "dataframe['num_label'].value_counts()"
   ]
  },
  {
   "cell_type": "code",
   "execution_count": null,
   "id": "2b98d036",
   "metadata": {},
   "outputs": [],
   "source": []
  }
 ],
 "metadata": {
  "kernelspec": {
   "display_name": "Python 3",
   "language": "python",
   "name": "python3"
  },
  "language_info": {
   "codemirror_mode": {
    "name": "ipython",
    "version": 3
   },
   "file_extension": ".py",
   "mimetype": "text/x-python",
   "name": "python",
   "nbconvert_exporter": "python",
   "pygments_lexer": "ipython3",
   "version": "3.8.8"
  }
 },
 "nbformat": 4,
 "nbformat_minor": 5
}
